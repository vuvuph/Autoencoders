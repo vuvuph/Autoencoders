{
  "cells": [
    {
      "cell_type": "markdown",
      "metadata": {},
      "source": [
        "# Repository on github: https://github.com/pietrobenecchi/Autoencoders"
      ]
    },
    {
      "cell_type": "markdown",
      "metadata": {
        "id": "MsNZTbTWfsW2"
      },
      "source": [
        "# Imports"
      ]
    },
    {
      "cell_type": "code",
      "execution_count": null,
      "metadata": {
        "id": "JcLOSqGVfyQO"
      },
      "outputs": [],
      "source": [
        "#support libraries\n",
        "import matplotlib.pyplot as plt\n",
        "import numpy as np\n",
        "import pandas as pd\n",
        "import tensorflow as tf\n",
        "\n",
        "#sklearn\n",
        "from sklearn.model_selection import train_test_split\n",
        "from sklearn.preprocessing import MinMaxScaler\n",
        "from sklearn.model_selection import train_test_split\n",
        "from sklearn.metrics import accuracy_score, recall_score, classification_report, confusion_matrix\n",
        "\n",
        "\n",
        "#tensor flow\n",
        "from tensorflow.keras import layers, Sequential\n",
        "from tensorflow.keras.optimizers import Adam\n",
        "from tensorflow.keras.callbacks import EarlyStopping, ModelCheckpoint\n",
        "from tensorflow.keras.models import Model\n",
        "from tensorflow.keras.layers import Input, LSTM, Dense, RepeatVector, TimeDistributed, Dropout\n",
        "from sklearn.metrics import accuracy_score, recall_score, precision_score, f1_score\n",
        "\n",
        "#convolution matrix\n",
        "import seaborn as sns"
      ]
    },
    {
      "cell_type": "markdown",
      "metadata": {
        "id": "qbmscCR5E7pj"
      },
      "source": [
        "# Data preprocessing"
      ]
    },
    {
      "cell_type": "code",
      "execution_count": null,
      "metadata": {
        "colab": {
          "base_uri": "https://localhost:8080/"
        },
        "id": "7ao7YsNR9qQv",
        "outputId": "3c07b384-80bf-426c-8e67-2557ed3f2171"
      },
      "outputs": [
        {
          "name": "stdout",
          "output_type": "stream",
          "text": [
            "Drive already mounted at /content/drive; to attempt to forcibly remount, call drive.mount(\"/content/drive\", force_remount=True).\n"
          ]
        }
      ],
      "source": [
        "from google.colab import drive\n",
        "drive.mount('/content/drive')"
      ]
    },
    {
      "cell_type": "code",
      "execution_count": null,
      "metadata": {
        "colab": {
          "base_uri": "https://localhost:8080/"
        },
        "id": "r0mGe7zvFH-n",
        "outputId": "cfc79c90-ba09-491b-be0f-0e60ba59b8dd"
      },
      "outputs": [
        {
          "name": "stderr",
          "output_type": "stream",
          "text": [
            "<ipython-input-186-5f2f42f0df24>:3: DtypeWarning: Columns (10,13,16,17,18,20,21,22,24,25) have mixed types. Specify dtype option on import or set low_memory=False.\n",
            "  df = pd.read_csv(filepath)\n"
          ]
        }
      ],
      "source": [
        "#Load dataset\n",
        "filepath = \"/content/drive/MyDrive/IoT-23 Dataset/iot23_combined_complete.csv\"\n",
        "df = pd.read_csv(filepath)\n",
        "\n",
        "df\n",
        "del df['Unnamed: 0'] ## a usueless column created by reading a cvs file"
      ]
    },
    {
      "cell_type": "code",
      "execution_count": null,
      "metadata": {
        "colab": {
          "base_uri": "https://localhost:8080/",
          "height": 444
        },
        "id": "rtqEvBUaqGaw",
        "outputId": "9612e7a4-5308-4e93-b2b7-1e695ce91c00"
      },
      "outputs": [
        {
          "data": {
            "application/vnd.google.colaboratory.intrinsic+json": {
              "type": "dataframe",
              "variable_name": "df"
            },
            "text/html": [
              "\n",
              "  <div id=\"df-7a7ce528-a858-49f5-a32e-adbb3ddb6d30\" class=\"colab-df-container\">\n",
              "    <div>\n",
              "<style scoped>\n",
              "    .dataframe tbody tr th:only-of-type {\n",
              "        vertical-align: middle;\n",
              "    }\n",
              "\n",
              "    .dataframe tbody tr th {\n",
              "        vertical-align: top;\n",
              "    }\n",
              "\n",
              "    .dataframe thead th {\n",
              "        text-align: right;\n",
              "    }\n",
              "</style>\n",
              "<table border=\"1\" class=\"dataframe\">\n",
              "  <thead>\n",
              "    <tr style=\"text-align: right;\">\n",
              "      <th></th>\n",
              "      <th>duration</th>\n",
              "      <th>orig_bytes</th>\n",
              "      <th>resp_bytes</th>\n",
              "      <th>missed_bytes</th>\n",
              "      <th>orig_pkts</th>\n",
              "      <th>orig_ip_bytes</th>\n",
              "      <th>resp_pkts</th>\n",
              "      <th>resp_ip_bytes</th>\n",
              "      <th>label</th>\n",
              "      <th>proto_icmp</th>\n",
              "      <th>...</th>\n",
              "      <th>conn_state_RSTOS0</th>\n",
              "      <th>conn_state_RSTR</th>\n",
              "      <th>conn_state_RSTRH</th>\n",
              "      <th>conn_state_S0</th>\n",
              "      <th>conn_state_S1</th>\n",
              "      <th>conn_state_S2</th>\n",
              "      <th>conn_state_S3</th>\n",
              "      <th>conn_state_SF</th>\n",
              "      <th>conn_state_SH</th>\n",
              "      <th>conn_state_SHR</th>\n",
              "    </tr>\n",
              "  </thead>\n",
              "  <tbody>\n",
              "    <tr>\n",
              "      <th>0</th>\n",
              "      <td>2.998796</td>\n",
              "      <td>0</td>\n",
              "      <td>0</td>\n",
              "      <td>0.0</td>\n",
              "      <td>3.0</td>\n",
              "      <td>180.0</td>\n",
              "      <td>0.0</td>\n",
              "      <td>0.0</td>\n",
              "      <td>PartOfAHorizontalPortScan</td>\n",
              "      <td>False</td>\n",
              "      <td>...</td>\n",
              "      <td>False</td>\n",
              "      <td>False</td>\n",
              "      <td>False</td>\n",
              "      <td>True</td>\n",
              "      <td>False</td>\n",
              "      <td>False</td>\n",
              "      <td>False</td>\n",
              "      <td>False</td>\n",
              "      <td>False</td>\n",
              "      <td>False</td>\n",
              "    </tr>\n",
              "    <tr>\n",
              "      <th>1</th>\n",
              "      <td>0.000000</td>\n",
              "      <td>0</td>\n",
              "      <td>0</td>\n",
              "      <td>0.0</td>\n",
              "      <td>1.0</td>\n",
              "      <td>60.0</td>\n",
              "      <td>0.0</td>\n",
              "      <td>0.0</td>\n",
              "      <td>PartOfAHorizontalPortScan</td>\n",
              "      <td>False</td>\n",
              "      <td>...</td>\n",
              "      <td>False</td>\n",
              "      <td>False</td>\n",
              "      <td>False</td>\n",
              "      <td>True</td>\n",
              "      <td>False</td>\n",
              "      <td>False</td>\n",
              "      <td>False</td>\n",
              "      <td>False</td>\n",
              "      <td>False</td>\n",
              "      <td>False</td>\n",
              "    </tr>\n",
              "    <tr>\n",
              "      <th>2</th>\n",
              "      <td>0.000000</td>\n",
              "      <td>0</td>\n",
              "      <td>0</td>\n",
              "      <td>0.0</td>\n",
              "      <td>1.0</td>\n",
              "      <td>60.0</td>\n",
              "      <td>0.0</td>\n",
              "      <td>0.0</td>\n",
              "      <td>PartOfAHorizontalPortScan</td>\n",
              "      <td>False</td>\n",
              "      <td>...</td>\n",
              "      <td>False</td>\n",
              "      <td>False</td>\n",
              "      <td>False</td>\n",
              "      <td>True</td>\n",
              "      <td>False</td>\n",
              "      <td>False</td>\n",
              "      <td>False</td>\n",
              "      <td>False</td>\n",
              "      <td>False</td>\n",
              "      <td>False</td>\n",
              "    </tr>\n",
              "    <tr>\n",
              "      <th>3</th>\n",
              "      <td>2.998804</td>\n",
              "      <td>0</td>\n",
              "      <td>0</td>\n",
              "      <td>0.0</td>\n",
              "      <td>3.0</td>\n",
              "      <td>180.0</td>\n",
              "      <td>0.0</td>\n",
              "      <td>0.0</td>\n",
              "      <td>Benign</td>\n",
              "      <td>False</td>\n",
              "      <td>...</td>\n",
              "      <td>False</td>\n",
              "      <td>False</td>\n",
              "      <td>False</td>\n",
              "      <td>True</td>\n",
              "      <td>False</td>\n",
              "      <td>False</td>\n",
              "      <td>False</td>\n",
              "      <td>False</td>\n",
              "      <td>False</td>\n",
              "      <td>False</td>\n",
              "    </tr>\n",
              "    <tr>\n",
              "      <th>4</th>\n",
              "      <td>0.000000</td>\n",
              "      <td>0</td>\n",
              "      <td>0</td>\n",
              "      <td>0.0</td>\n",
              "      <td>1.0</td>\n",
              "      <td>60.0</td>\n",
              "      <td>0.0</td>\n",
              "      <td>0.0</td>\n",
              "      <td>Benign</td>\n",
              "      <td>False</td>\n",
              "      <td>...</td>\n",
              "      <td>False</td>\n",
              "      <td>False</td>\n",
              "      <td>False</td>\n",
              "      <td>True</td>\n",
              "      <td>False</td>\n",
              "      <td>False</td>\n",
              "      <td>False</td>\n",
              "      <td>False</td>\n",
              "      <td>False</td>\n",
              "      <td>False</td>\n",
              "    </tr>\n",
              "    <tr>\n",
              "      <th>...</th>\n",
              "      <td>...</td>\n",
              "      <td>...</td>\n",
              "      <td>...</td>\n",
              "      <td>...</td>\n",
              "      <td>...</td>\n",
              "      <td>...</td>\n",
              "      <td>...</td>\n",
              "      <td>...</td>\n",
              "      <td>...</td>\n",
              "      <td>...</td>\n",
              "      <td>...</td>\n",
              "      <td>...</td>\n",
              "      <td>...</td>\n",
              "      <td>...</td>\n",
              "      <td>...</td>\n",
              "      <td>...</td>\n",
              "      <td>...</td>\n",
              "      <td>...</td>\n",
              "      <td>...</td>\n",
              "      <td>...</td>\n",
              "      <td>...</td>\n",
              "    </tr>\n",
              "    <tr>\n",
              "      <th>1444669</th>\n",
              "      <td>0.000000</td>\n",
              "      <td>0</td>\n",
              "      <td>0</td>\n",
              "      <td>0.0</td>\n",
              "      <td>1.0</td>\n",
              "      <td>40.0</td>\n",
              "      <td>0.0</td>\n",
              "      <td>0.0</td>\n",
              "      <td>Benign</td>\n",
              "      <td>-1</td>\n",
              "      <td>...</td>\n",
              "      <td>-1</td>\n",
              "      <td>-1</td>\n",
              "      <td>-1</td>\n",
              "      <td>True</td>\n",
              "      <td>-1</td>\n",
              "      <td>-1</td>\n",
              "      <td>-1</td>\n",
              "      <td>False</td>\n",
              "      <td>-1</td>\n",
              "      <td>-1</td>\n",
              "    </tr>\n",
              "    <tr>\n",
              "      <th>1444670</th>\n",
              "      <td>0.000000</td>\n",
              "      <td>0</td>\n",
              "      <td>0</td>\n",
              "      <td>0.0</td>\n",
              "      <td>1.0</td>\n",
              "      <td>40.0</td>\n",
              "      <td>0.0</td>\n",
              "      <td>0.0</td>\n",
              "      <td>PartOfAHorizontalPortScan</td>\n",
              "      <td>-1</td>\n",
              "      <td>...</td>\n",
              "      <td>-1</td>\n",
              "      <td>-1</td>\n",
              "      <td>-1</td>\n",
              "      <td>True</td>\n",
              "      <td>-1</td>\n",
              "      <td>-1</td>\n",
              "      <td>-1</td>\n",
              "      <td>False</td>\n",
              "      <td>-1</td>\n",
              "      <td>-1</td>\n",
              "    </tr>\n",
              "    <tr>\n",
              "      <th>1444671</th>\n",
              "      <td>0.000000</td>\n",
              "      <td>0</td>\n",
              "      <td>0</td>\n",
              "      <td>0.0</td>\n",
              "      <td>1.0</td>\n",
              "      <td>40.0</td>\n",
              "      <td>0.0</td>\n",
              "      <td>0.0</td>\n",
              "      <td>PartOfAHorizontalPortScan</td>\n",
              "      <td>-1</td>\n",
              "      <td>...</td>\n",
              "      <td>-1</td>\n",
              "      <td>-1</td>\n",
              "      <td>-1</td>\n",
              "      <td>True</td>\n",
              "      <td>-1</td>\n",
              "      <td>-1</td>\n",
              "      <td>-1</td>\n",
              "      <td>False</td>\n",
              "      <td>-1</td>\n",
              "      <td>-1</td>\n",
              "    </tr>\n",
              "    <tr>\n",
              "      <th>1444672</th>\n",
              "      <td>0.000000</td>\n",
              "      <td>0</td>\n",
              "      <td>0</td>\n",
              "      <td>0.0</td>\n",
              "      <td>1.0</td>\n",
              "      <td>40.0</td>\n",
              "      <td>0.0</td>\n",
              "      <td>0.0</td>\n",
              "      <td>PartOfAHorizontalPortScan</td>\n",
              "      <td>-1</td>\n",
              "      <td>...</td>\n",
              "      <td>-1</td>\n",
              "      <td>-1</td>\n",
              "      <td>-1</td>\n",
              "      <td>True</td>\n",
              "      <td>-1</td>\n",
              "      <td>-1</td>\n",
              "      <td>-1</td>\n",
              "      <td>False</td>\n",
              "      <td>-1</td>\n",
              "      <td>-1</td>\n",
              "    </tr>\n",
              "    <tr>\n",
              "      <th>1444673</th>\n",
              "      <td>0.000000</td>\n",
              "      <td>0</td>\n",
              "      <td>0</td>\n",
              "      <td>0.0</td>\n",
              "      <td>1.0</td>\n",
              "      <td>40.0</td>\n",
              "      <td>0.0</td>\n",
              "      <td>0.0</td>\n",
              "      <td>Benign</td>\n",
              "      <td>-1</td>\n",
              "      <td>...</td>\n",
              "      <td>-1</td>\n",
              "      <td>-1</td>\n",
              "      <td>-1</td>\n",
              "      <td>True</td>\n",
              "      <td>-1</td>\n",
              "      <td>-1</td>\n",
              "      <td>-1</td>\n",
              "      <td>False</td>\n",
              "      <td>-1</td>\n",
              "      <td>-1</td>\n",
              "    </tr>\n",
              "  </tbody>\n",
              "</table>\n",
              "<p>1444674 rows × 25 columns</p>\n",
              "</div>\n",
              "    <div class=\"colab-df-buttons\">\n",
              "\n",
              "  <div class=\"colab-df-container\">\n",
              "    <button class=\"colab-df-convert\" onclick=\"convertToInteractive('df-7a7ce528-a858-49f5-a32e-adbb3ddb6d30')\"\n",
              "            title=\"Convert this dataframe to an interactive table.\"\n",
              "            style=\"display:none;\">\n",
              "\n",
              "  <svg xmlns=\"http://www.w3.org/2000/svg\" height=\"24px\" viewBox=\"0 -960 960 960\">\n",
              "    <path d=\"M120-120v-720h720v720H120Zm60-500h600v-160H180v160Zm220 220h160v-160H400v160Zm0 220h160v-160H400v160ZM180-400h160v-160H180v160Zm440 0h160v-160H620v160ZM180-180h160v-160H180v160Zm440 0h160v-160H620v160Z\"/>\n",
              "  </svg>\n",
              "    </button>\n",
              "\n",
              "  <style>\n",
              "    .colab-df-container {\n",
              "      display:flex;\n",
              "      gap: 12px;\n",
              "    }\n",
              "\n",
              "    .colab-df-convert {\n",
              "      background-color: #E8F0FE;\n",
              "      border: none;\n",
              "      border-radius: 50%;\n",
              "      cursor: pointer;\n",
              "      display: none;\n",
              "      fill: #1967D2;\n",
              "      height: 32px;\n",
              "      padding: 0 0 0 0;\n",
              "      width: 32px;\n",
              "    }\n",
              "\n",
              "    .colab-df-convert:hover {\n",
              "      background-color: #E2EBFA;\n",
              "      box-shadow: 0px 1px 2px rgba(60, 64, 67, 0.3), 0px 1px 3px 1px rgba(60, 64, 67, 0.15);\n",
              "      fill: #174EA6;\n",
              "    }\n",
              "\n",
              "    .colab-df-buttons div {\n",
              "      margin-bottom: 4px;\n",
              "    }\n",
              "\n",
              "    [theme=dark] .colab-df-convert {\n",
              "      background-color: #3B4455;\n",
              "      fill: #D2E3FC;\n",
              "    }\n",
              "\n",
              "    [theme=dark] .colab-df-convert:hover {\n",
              "      background-color: #434B5C;\n",
              "      box-shadow: 0px 1px 3px 1px rgba(0, 0, 0, 0.15);\n",
              "      filter: drop-shadow(0px 1px 2px rgba(0, 0, 0, 0.3));\n",
              "      fill: #FFFFFF;\n",
              "    }\n",
              "  </style>\n",
              "\n",
              "    <script>\n",
              "      const buttonEl =\n",
              "        document.querySelector('#df-7a7ce528-a858-49f5-a32e-adbb3ddb6d30 button.colab-df-convert');\n",
              "      buttonEl.style.display =\n",
              "        google.colab.kernel.accessAllowed ? 'block' : 'none';\n",
              "\n",
              "      async function convertToInteractive(key) {\n",
              "        const element = document.querySelector('#df-7a7ce528-a858-49f5-a32e-adbb3ddb6d30');\n",
              "        const dataTable =\n",
              "          await google.colab.kernel.invokeFunction('convertToInteractive',\n",
              "                                                    [key], {});\n",
              "        if (!dataTable) return;\n",
              "\n",
              "        const docLinkHtml = 'Like what you see? Visit the ' +\n",
              "          '<a target=\"_blank\" href=https://colab.research.google.com/notebooks/data_table.ipynb>data table notebook</a>'\n",
              "          + ' to learn more about interactive tables.';\n",
              "        element.innerHTML = '';\n",
              "        dataTable['output_type'] = 'display_data';\n",
              "        await google.colab.output.renderOutput(dataTable, element);\n",
              "        const docLink = document.createElement('div');\n",
              "        docLink.innerHTML = docLinkHtml;\n",
              "        element.appendChild(docLink);\n",
              "      }\n",
              "    </script>\n",
              "  </div>\n",
              "\n",
              "\n",
              "<div id=\"df-06faf2fc-1bd5-4537-808c-52bd78dd8af8\">\n",
              "  <button class=\"colab-df-quickchart\" onclick=\"quickchart('df-06faf2fc-1bd5-4537-808c-52bd78dd8af8')\"\n",
              "            title=\"Suggest charts\"\n",
              "            style=\"display:none;\">\n",
              "\n",
              "<svg xmlns=\"http://www.w3.org/2000/svg\" height=\"24px\"viewBox=\"0 0 24 24\"\n",
              "     width=\"24px\">\n",
              "    <g>\n",
              "        <path d=\"M19 3H5c-1.1 0-2 .9-2 2v14c0 1.1.9 2 2 2h14c1.1 0 2-.9 2-2V5c0-1.1-.9-2-2-2zM9 17H7v-7h2v7zm4 0h-2V7h2v10zm4 0h-2v-4h2v4z\"/>\n",
              "    </g>\n",
              "</svg>\n",
              "  </button>\n",
              "\n",
              "<style>\n",
              "  .colab-df-quickchart {\n",
              "      --bg-color: #E8F0FE;\n",
              "      --fill-color: #1967D2;\n",
              "      --hover-bg-color: #E2EBFA;\n",
              "      --hover-fill-color: #174EA6;\n",
              "      --disabled-fill-color: #AAA;\n",
              "      --disabled-bg-color: #DDD;\n",
              "  }\n",
              "\n",
              "  [theme=dark] .colab-df-quickchart {\n",
              "      --bg-color: #3B4455;\n",
              "      --fill-color: #D2E3FC;\n",
              "      --hover-bg-color: #434B5C;\n",
              "      --hover-fill-color: #FFFFFF;\n",
              "      --disabled-bg-color: #3B4455;\n",
              "      --disabled-fill-color: #666;\n",
              "  }\n",
              "\n",
              "  .colab-df-quickchart {\n",
              "    background-color: var(--bg-color);\n",
              "    border: none;\n",
              "    border-radius: 50%;\n",
              "    cursor: pointer;\n",
              "    display: none;\n",
              "    fill: var(--fill-color);\n",
              "    height: 32px;\n",
              "    padding: 0;\n",
              "    width: 32px;\n",
              "  }\n",
              "\n",
              "  .colab-df-quickchart:hover {\n",
              "    background-color: var(--hover-bg-color);\n",
              "    box-shadow: 0 1px 2px rgba(60, 64, 67, 0.3), 0 1px 3px 1px rgba(60, 64, 67, 0.15);\n",
              "    fill: var(--button-hover-fill-color);\n",
              "  }\n",
              "\n",
              "  .colab-df-quickchart-complete:disabled,\n",
              "  .colab-df-quickchart-complete:disabled:hover {\n",
              "    background-color: var(--disabled-bg-color);\n",
              "    fill: var(--disabled-fill-color);\n",
              "    box-shadow: none;\n",
              "  }\n",
              "\n",
              "  .colab-df-spinner {\n",
              "    border: 2px solid var(--fill-color);\n",
              "    border-color: transparent;\n",
              "    border-bottom-color: var(--fill-color);\n",
              "    animation:\n",
              "      spin 1s steps(1) infinite;\n",
              "  }\n",
              "\n",
              "  @keyframes spin {\n",
              "    0% {\n",
              "      border-color: transparent;\n",
              "      border-bottom-color: var(--fill-color);\n",
              "      border-left-color: var(--fill-color);\n",
              "    }\n",
              "    20% {\n",
              "      border-color: transparent;\n",
              "      border-left-color: var(--fill-color);\n",
              "      border-top-color: var(--fill-color);\n",
              "    }\n",
              "    30% {\n",
              "      border-color: transparent;\n",
              "      border-left-color: var(--fill-color);\n",
              "      border-top-color: var(--fill-color);\n",
              "      border-right-color: var(--fill-color);\n",
              "    }\n",
              "    40% {\n",
              "      border-color: transparent;\n",
              "      border-right-color: var(--fill-color);\n",
              "      border-top-color: var(--fill-color);\n",
              "    }\n",
              "    60% {\n",
              "      border-color: transparent;\n",
              "      border-right-color: var(--fill-color);\n",
              "    }\n",
              "    80% {\n",
              "      border-color: transparent;\n",
              "      border-right-color: var(--fill-color);\n",
              "      border-bottom-color: var(--fill-color);\n",
              "    }\n",
              "    90% {\n",
              "      border-color: transparent;\n",
              "      border-bottom-color: var(--fill-color);\n",
              "    }\n",
              "  }\n",
              "</style>\n",
              "\n",
              "  <script>\n",
              "    async function quickchart(key) {\n",
              "      const quickchartButtonEl =\n",
              "        document.querySelector('#' + key + ' button');\n",
              "      quickchartButtonEl.disabled = true;  // To prevent multiple clicks.\n",
              "      quickchartButtonEl.classList.add('colab-df-spinner');\n",
              "      try {\n",
              "        const charts = await google.colab.kernel.invokeFunction(\n",
              "            'suggestCharts', [key], {});\n",
              "      } catch (error) {\n",
              "        console.error('Error during call to suggestCharts:', error);\n",
              "      }\n",
              "      quickchartButtonEl.classList.remove('colab-df-spinner');\n",
              "      quickchartButtonEl.classList.add('colab-df-quickchart-complete');\n",
              "    }\n",
              "    (() => {\n",
              "      let quickchartButtonEl =\n",
              "        document.querySelector('#df-06faf2fc-1bd5-4537-808c-52bd78dd8af8 button');\n",
              "      quickchartButtonEl.style.display =\n",
              "        google.colab.kernel.accessAllowed ? 'block' : 'none';\n",
              "    })();\n",
              "  </script>\n",
              "</div>\n",
              "\n",
              "  <div id=\"id_41e77a4d-43c1-45d6-9606-49b814129f4a\">\n",
              "    <style>\n",
              "      .colab-df-generate {\n",
              "        background-color: #E8F0FE;\n",
              "        border: none;\n",
              "        border-radius: 50%;\n",
              "        cursor: pointer;\n",
              "        display: none;\n",
              "        fill: #1967D2;\n",
              "        height: 32px;\n",
              "        padding: 0 0 0 0;\n",
              "        width: 32px;\n",
              "      }\n",
              "\n",
              "      .colab-df-generate:hover {\n",
              "        background-color: #E2EBFA;\n",
              "        box-shadow: 0px 1px 2px rgba(60, 64, 67, 0.3), 0px 1px 3px 1px rgba(60, 64, 67, 0.15);\n",
              "        fill: #174EA6;\n",
              "      }\n",
              "\n",
              "      [theme=dark] .colab-df-generate {\n",
              "        background-color: #3B4455;\n",
              "        fill: #D2E3FC;\n",
              "      }\n",
              "\n",
              "      [theme=dark] .colab-df-generate:hover {\n",
              "        background-color: #434B5C;\n",
              "        box-shadow: 0px 1px 3px 1px rgba(0, 0, 0, 0.15);\n",
              "        filter: drop-shadow(0px 1px 2px rgba(0, 0, 0, 0.3));\n",
              "        fill: #FFFFFF;\n",
              "      }\n",
              "    </style>\n",
              "    <button class=\"colab-df-generate\" onclick=\"generateWithVariable('df')\"\n",
              "            title=\"Generate code using this dataframe.\"\n",
              "            style=\"display:none;\">\n",
              "\n",
              "  <svg xmlns=\"http://www.w3.org/2000/svg\" height=\"24px\"viewBox=\"0 0 24 24\"\n",
              "       width=\"24px\">\n",
              "    <path d=\"M7,19H8.4L18.45,9,17,7.55,7,17.6ZM5,21V16.75L18.45,3.32a2,2,0,0,1,2.83,0l1.4,1.43a1.91,1.91,0,0,1,.58,1.4,1.91,1.91,0,0,1-.58,1.4L9.25,21ZM18.45,9,17,7.55Zm-12,3A5.31,5.31,0,0,0,4.9,8.1,5.31,5.31,0,0,0,1,6.5,5.31,5.31,0,0,0,4.9,4.9,5.31,5.31,0,0,0,6.5,1,5.31,5.31,0,0,0,8.1,4.9,5.31,5.31,0,0,0,12,6.5,5.46,5.46,0,0,0,6.5,12Z\"/>\n",
              "  </svg>\n",
              "    </button>\n",
              "    <script>\n",
              "      (() => {\n",
              "      const buttonEl =\n",
              "        document.querySelector('#id_41e77a4d-43c1-45d6-9606-49b814129f4a button.colab-df-generate');\n",
              "      buttonEl.style.display =\n",
              "        google.colab.kernel.accessAllowed ? 'block' : 'none';\n",
              "\n",
              "      buttonEl.onclick = () => {\n",
              "        google.colab.notebook.generateWithVariable('df');\n",
              "      }\n",
              "      })();\n",
              "    </script>\n",
              "  </div>\n",
              "\n",
              "    </div>\n",
              "  </div>\n"
            ],
            "text/plain": [
              "         duration  orig_bytes  resp_bytes  missed_bytes  orig_pkts  \\\n",
              "0        2.998796           0           0           0.0        3.0   \n",
              "1        0.000000           0           0           0.0        1.0   \n",
              "2        0.000000           0           0           0.0        1.0   \n",
              "3        2.998804           0           0           0.0        3.0   \n",
              "4        0.000000           0           0           0.0        1.0   \n",
              "...           ...         ...         ...           ...        ...   \n",
              "1444669  0.000000           0           0           0.0        1.0   \n",
              "1444670  0.000000           0           0           0.0        1.0   \n",
              "1444671  0.000000           0           0           0.0        1.0   \n",
              "1444672  0.000000           0           0           0.0        1.0   \n",
              "1444673  0.000000           0           0           0.0        1.0   \n",
              "\n",
              "         orig_ip_bytes  resp_pkts  resp_ip_bytes                      label  \\\n",
              "0                180.0        0.0            0.0  PartOfAHorizontalPortScan   \n",
              "1                 60.0        0.0            0.0  PartOfAHorizontalPortScan   \n",
              "2                 60.0        0.0            0.0  PartOfAHorizontalPortScan   \n",
              "3                180.0        0.0            0.0                     Benign   \n",
              "4                 60.0        0.0            0.0                     Benign   \n",
              "...                ...        ...            ...                        ...   \n",
              "1444669           40.0        0.0            0.0                     Benign   \n",
              "1444670           40.0        0.0            0.0  PartOfAHorizontalPortScan   \n",
              "1444671           40.0        0.0            0.0  PartOfAHorizontalPortScan   \n",
              "1444672           40.0        0.0            0.0  PartOfAHorizontalPortScan   \n",
              "1444673           40.0        0.0            0.0                     Benign   \n",
              "\n",
              "        proto_icmp  ...  conn_state_RSTOS0  conn_state_RSTR conn_state_RSTRH  \\\n",
              "0            False  ...              False            False            False   \n",
              "1            False  ...              False            False            False   \n",
              "2            False  ...              False            False            False   \n",
              "3            False  ...              False            False            False   \n",
              "4            False  ...              False            False            False   \n",
              "...            ...  ...                ...              ...              ...   \n",
              "1444669         -1  ...                 -1               -1               -1   \n",
              "1444670         -1  ...                 -1               -1               -1   \n",
              "1444671         -1  ...                 -1               -1               -1   \n",
              "1444672         -1  ...                 -1               -1               -1   \n",
              "1444673         -1  ...                 -1               -1               -1   \n",
              "\n",
              "         conn_state_S0  conn_state_S1 conn_state_S2 conn_state_S3  \\\n",
              "0                 True          False         False         False   \n",
              "1                 True          False         False         False   \n",
              "2                 True          False         False         False   \n",
              "3                 True          False         False         False   \n",
              "4                 True          False         False         False   \n",
              "...                ...            ...           ...           ...   \n",
              "1444669           True             -1            -1            -1   \n",
              "1444670           True             -1            -1            -1   \n",
              "1444671           True             -1            -1            -1   \n",
              "1444672           True             -1            -1            -1   \n",
              "1444673           True             -1            -1            -1   \n",
              "\n",
              "        conn_state_SF  conn_state_SH conn_state_SHR  \n",
              "0               False          False          False  \n",
              "1               False          False          False  \n",
              "2               False          False          False  \n",
              "3               False          False          False  \n",
              "4               False          False          False  \n",
              "...               ...            ...            ...  \n",
              "1444669         False             -1             -1  \n",
              "1444670         False             -1             -1  \n",
              "1444671         False             -1             -1  \n",
              "1444672         False             -1             -1  \n",
              "1444673         False             -1             -1  \n",
              "\n",
              "[1444674 rows x 25 columns]"
            ]
          },
          "execution_count": 187,
          "metadata": {},
          "output_type": "execute_result"
        }
      ],
      "source": [
        "df"
      ]
    },
    {
      "cell_type": "code",
      "execution_count": null,
      "metadata": {
        "colab": {
          "base_uri": "https://localhost:8080/",
          "height": 906
        },
        "id": "EGQgD7b4LbQw",
        "outputId": "316efc8d-0b27-4c6c-887c-14e13995f09f"
      },
      "outputs": [
        {
          "data": {
            "text/html": [
              "<div>\n",
              "<style scoped>\n",
              "    .dataframe tbody tr th:only-of-type {\n",
              "        vertical-align: middle;\n",
              "    }\n",
              "\n",
              "    .dataframe tbody tr th {\n",
              "        vertical-align: top;\n",
              "    }\n",
              "\n",
              "    .dataframe thead th {\n",
              "        text-align: right;\n",
              "    }\n",
              "</style>\n",
              "<table border=\"1\" class=\"dataframe\">\n",
              "  <thead>\n",
              "    <tr style=\"text-align: right;\">\n",
              "      <th></th>\n",
              "      <th>0</th>\n",
              "    </tr>\n",
              "  </thead>\n",
              "  <tbody>\n",
              "    <tr>\n",
              "      <th>duration</th>\n",
              "      <td>float64</td>\n",
              "    </tr>\n",
              "    <tr>\n",
              "      <th>orig_bytes</th>\n",
              "      <td>int64</td>\n",
              "    </tr>\n",
              "    <tr>\n",
              "      <th>resp_bytes</th>\n",
              "      <td>int64</td>\n",
              "    </tr>\n",
              "    <tr>\n",
              "      <th>missed_bytes</th>\n",
              "      <td>float64</td>\n",
              "    </tr>\n",
              "    <tr>\n",
              "      <th>orig_pkts</th>\n",
              "      <td>float64</td>\n",
              "    </tr>\n",
              "    <tr>\n",
              "      <th>orig_ip_bytes</th>\n",
              "      <td>float64</td>\n",
              "    </tr>\n",
              "    <tr>\n",
              "      <th>resp_pkts</th>\n",
              "      <td>float64</td>\n",
              "    </tr>\n",
              "    <tr>\n",
              "      <th>resp_ip_bytes</th>\n",
              "      <td>float64</td>\n",
              "    </tr>\n",
              "    <tr>\n",
              "      <th>label</th>\n",
              "      <td>object</td>\n",
              "    </tr>\n",
              "    <tr>\n",
              "      <th>proto_icmp</th>\n",
              "      <td>int64</td>\n",
              "    </tr>\n",
              "    <tr>\n",
              "      <th>proto_tcp</th>\n",
              "      <td>int64</td>\n",
              "    </tr>\n",
              "    <tr>\n",
              "      <th>proto_udp</th>\n",
              "      <td>int64</td>\n",
              "    </tr>\n",
              "    <tr>\n",
              "      <th>conn_state_OTH</th>\n",
              "      <td>int64</td>\n",
              "    </tr>\n",
              "    <tr>\n",
              "      <th>conn_state_REJ</th>\n",
              "      <td>int64</td>\n",
              "    </tr>\n",
              "    <tr>\n",
              "      <th>conn_state_RSTO</th>\n",
              "      <td>int64</td>\n",
              "    </tr>\n",
              "    <tr>\n",
              "      <th>conn_state_RSTOS0</th>\n",
              "      <td>int64</td>\n",
              "    </tr>\n",
              "    <tr>\n",
              "      <th>conn_state_RSTR</th>\n",
              "      <td>int64</td>\n",
              "    </tr>\n",
              "    <tr>\n",
              "      <th>conn_state_RSTRH</th>\n",
              "      <td>int64</td>\n",
              "    </tr>\n",
              "    <tr>\n",
              "      <th>conn_state_S0</th>\n",
              "      <td>int64</td>\n",
              "    </tr>\n",
              "    <tr>\n",
              "      <th>conn_state_S1</th>\n",
              "      <td>int64</td>\n",
              "    </tr>\n",
              "    <tr>\n",
              "      <th>conn_state_S2</th>\n",
              "      <td>int64</td>\n",
              "    </tr>\n",
              "    <tr>\n",
              "      <th>conn_state_S3</th>\n",
              "      <td>int64</td>\n",
              "    </tr>\n",
              "    <tr>\n",
              "      <th>conn_state_SF</th>\n",
              "      <td>int64</td>\n",
              "    </tr>\n",
              "    <tr>\n",
              "      <th>conn_state_SH</th>\n",
              "      <td>int64</td>\n",
              "    </tr>\n",
              "    <tr>\n",
              "      <th>conn_state_SHR</th>\n",
              "      <td>int64</td>\n",
              "    </tr>\n",
              "  </tbody>\n",
              "</table>\n",
              "</div><br><label><b>dtype:</b> object</label>"
            ],
            "text/plain": [
              "duration             float64\n",
              "orig_bytes             int64\n",
              "resp_bytes             int64\n",
              "missed_bytes         float64\n",
              "orig_pkts            float64\n",
              "orig_ip_bytes        float64\n",
              "resp_pkts            float64\n",
              "resp_ip_bytes        float64\n",
              "label                 object\n",
              "proto_icmp             int64\n",
              "proto_tcp              int64\n",
              "proto_udp              int64\n",
              "conn_state_OTH         int64\n",
              "conn_state_REJ         int64\n",
              "conn_state_RSTO        int64\n",
              "conn_state_RSTOS0      int64\n",
              "conn_state_RSTR        int64\n",
              "conn_state_RSTRH       int64\n",
              "conn_state_S0          int64\n",
              "conn_state_S1          int64\n",
              "conn_state_S2          int64\n",
              "conn_state_S3          int64\n",
              "conn_state_SF          int64\n",
              "conn_state_SH          int64\n",
              "conn_state_SHR         int64\n",
              "dtype: object"
            ]
          },
          "execution_count": 188,
          "metadata": {},
          "output_type": "execute_result"
        }
      ],
      "source": [
        "##Transform False/True data into numbers\n",
        "columns = [9, 12, 15, 16, 17, 19, 20, 21, 23, 24]\n",
        "\n",
        "#object to bool\n",
        "for col in df.columns[columns]:\n",
        "     df[col] = df[col].replace(-1, False)\n",
        "     df[col] = df[col].astype(bool)\n",
        "\n",
        "#bool to int\n",
        "for col in df.columns:\n",
        "    if df[col].dtype == bool:\n",
        "        df[col] = df[col].astype(int)\n",
        "\n",
        "df.dtypes"
      ]
    },
    {
      "cell_type": "code",
      "execution_count": null,
      "metadata": {
        "colab": {
          "base_uri": "https://localhost:8080/"
        },
        "id": "_3C4Y2khA152",
        "outputId": "f13e362c-3f2e-429a-e5f9-a6d19dc45142"
      },
      "outputs": [
        {
          "name": "stdout",
          "output_type": "stream",
          "text": [
            "label\n",
            "PartOfAHorizontalPortScan     825939\n",
            "Okiru                         262690\n",
            "Benign                        197809\n",
            "DDoS                          138777\n",
            "C&C                            15100\n",
            "Attack                          3915\n",
            "C&C-HeartBeat                    349\n",
            "C&C-FileDownload                  43\n",
            "C&C-Torii                         30\n",
            "FileDownload                      13\n",
            "C&C-HeartBeat-FileDownload         8\n",
            "C&C-Mirai                          1\n",
            "Name: count, dtype: int64\n",
            "label\n",
            "1    1246865\n",
            "0     197809\n",
            "Name: count, dtype: int64\n"
          ]
        }
      ],
      "source": [
        "## Transforming analomalies into 1 and benign data into 0\n",
        "print(df['label'].value_counts())\n",
        "df['label'] = df['label'].apply(lambda x: 0 if x == \"Benign\" else 1)\n",
        "y = df['label']\n",
        "\n",
        "y\n",
        "print(df['label'].value_counts())"
      ]
    },
    {
      "cell_type": "code",
      "execution_count": null,
      "metadata": {
        "id": "HR8a61eprqkU"
      },
      "outputs": [],
      "source": [
        "## Normalization tecnique\n",
        "X = df.drop(columns=['label'])\n",
        "y = df['label']\n",
        "\n",
        "scalar = MinMaxScaler()\n",
        "scalar.fit(X)\n",
        "X_normalized = scalar.transform(X)"
      ]
    },
    {
      "cell_type": "code",
      "execution_count": null,
      "metadata": {
        "id": "f-kqG2StJE5P"
      },
      "outputs": [],
      "source": [
        "##Dataset split for training and testing\n",
        "X_train, X_test, y_train, y_test = train_test_split(X_normalized, y, test_size=0.20, random_state=40)\n",
        "\n",
        "#Divide into anomaly and beging data\n",
        "X_train_begign = X_train[~y_train]\n",
        "X_test_benign = X_test[~y_test]\n",
        "\n",
        "X_train_anomaly = X_train[y_train]\n",
        "X_test_anomaly = X_test[y_test]\n",
        "\n",
        "#Test data has been split, but was never actually used in our code\n",
        "y_train_benign = y_train[y_train == 1]"
      ]
    },
    {
      "cell_type": "markdown",
      "metadata": {
        "id": "MWkG8vUcfkzi"
      },
      "source": [
        "# Classic Autoencoder\n"
      ]
    },
    {
      "cell_type": "code",
      "execution_count": null,
      "metadata": {
        "id": "3HSd7A3tEDnx"
      },
      "outputs": [],
      "source": [
        "# REFERENCE:\n",
        "# https://en.wikipedia.org/wiki/Autoencoder\n",
        "# https://www.geeksforgeeks.org/auto-encoders/\n",
        "# IMPLEMENTATION GUIDE:\n",
        "# https://www.tensorflow.org/tutorials/generative/autoencoder"
      ]
    },
    {
      "cell_type": "code",
      "execution_count": null,
      "metadata": {
        "colab": {
          "base_uri": "https://localhost:8080/"
        },
        "id": "TsTMB6vWe3D8",
        "outputId": "103ea225-a2ed-4205-932c-c99a0ca62a7c"
      },
      "outputs": [
        {
          "name": "stderr",
          "output_type": "stream",
          "text": [
            "/usr/local/lib/python3.11/dist-packages/keras/src/layers/core/input_layer.py:27: UserWarning: Argument `input_shape` is deprecated. Use `shape` instead.\n",
            "  warnings.warn(\n"
          ]
        }
      ],
      "source": [
        "class Autoencoders(tf.keras.Model):\n",
        "    def __init__(self, input_dim, latent_dim=3):\n",
        "        # Encoders: we follow a sequential dimensionality reduction: 24, 12, 6, 3\n",
        "        super(Autoencoders, self).__init__()\n",
        "        self.encoder = Sequential([\n",
        "            layers.InputLayer(shape=(input_dim,)),\n",
        "            layers.Dense(12, activation='relu'),\n",
        "            layers.Dense(6, activation='relu'),\n",
        "            layers.Dense(latent_dim, activation='relu'),\n",
        "        ])\n",
        "\n",
        "        # Decoder: opposite of encoder: 3, 6, 12, 24\n",
        "        self.decoder = Sequential([\n",
        "            layers.InputLayer(input_shape=(latent_dim,)),\n",
        "            layers.Dense(6, activation='relu'),\n",
        "            layers.Dense(12, activation='relu'),\n",
        "            layers.Dense(input_dim, activation='sigmoid')\n",
        "        ])\n",
        "\n",
        "    def call(self, inputs):\n",
        "        encoded = self.encoder(inputs)\n",
        "        decoded = self.decoder(encoded)\n",
        "        return decoded\n",
        "\n",
        "# Regularization: EarlyStopping\n",
        "# https://www.tensorflow.org/api_docs/python/tf/keras/callbacks/EarlyStopping\n",
        "early_stopping = EarlyStopping(\n",
        "    monitor='val_loss',  # Monitor val_loss\n",
        "    patience=5,          # numbers of epochs until stop\n",
        "    verbose=1,           # to print messages\n",
        "    restore_best_weights=True  # restore best weight after training\n",
        ")\n",
        "# Create autoencoder instance\n",
        "autoencoder = Autoencoders(input_dim=X_train.shape[1], latent_dim=3)\n",
        "\n",
        "# Compile model\n",
        "autoencoder.compile(optimizer= Adam(), loss = 'mae')"
      ]
    },
    {
      "cell_type": "code",
      "execution_count": null,
      "metadata": {
        "colab": {
          "base_uri": "https://localhost:8080/",
          "height": 648
        },
        "id": "uyyg8XBVqsJH",
        "outputId": "da029c23-2f5d-4265-9c8d-0140c84e8184"
      },
      "outputs": [
        {
          "data": {
            "text/html": [
              "<pre style=\"white-space:pre;overflow-x:auto;line-height:normal;font-family:Menlo,'DejaVu Sans Mono',consolas,'Courier New',monospace\"><span style=\"font-weight: bold\">Model: \"autoencoders_6\"</span>\n",
              "</pre>\n"
            ],
            "text/plain": [
              "\u001b[1mModel: \"autoencoders_6\"\u001b[0m\n"
            ]
          },
          "metadata": {},
          "output_type": "display_data"
        },
        {
          "data": {
            "text/html": [
              "<pre style=\"white-space:pre;overflow-x:auto;line-height:normal;font-family:Menlo,'DejaVu Sans Mono',consolas,'Courier New',monospace\">┏━━━━━━━━━━━━━━━━━━━━━━━━━━━━━━━━━━━━━━┳━━━━━━━━━━━━━━━━━━━━━━━━━━━━━┳━━━━━━━━━━━━━━━━━┓\n",
              "┃<span style=\"font-weight: bold\"> Layer (type)                         </span>┃<span style=\"font-weight: bold\"> Output Shape                </span>┃<span style=\"font-weight: bold\">         Param # </span>┃\n",
              "┡━━━━━━━━━━━━━━━━━━━━━━━━━━━━━━━━━━━━━━╇━━━━━━━━━━━━━━━━━━━━━━━━━━━━━╇━━━━━━━━━━━━━━━━━┩\n",
              "│ sequential_14 (<span style=\"color: #0087ff; text-decoration-color: #0087ff\">Sequential</span>)           │ (<span style=\"color: #00d7ff; text-decoration-color: #00d7ff\">None</span>, <span style=\"color: #00af00; text-decoration-color: #00af00\">3</span>)                   │             <span style=\"color: #00af00; text-decoration-color: #00af00\">399</span> │\n",
              "├──────────────────────────────────────┼─────────────────────────────┼─────────────────┤\n",
              "│ sequential_15 (<span style=\"color: #0087ff; text-decoration-color: #0087ff\">Sequential</span>)           │ (<span style=\"color: #00d7ff; text-decoration-color: #00d7ff\">None</span>, <span style=\"color: #00af00; text-decoration-color: #00af00\">24</span>)                  │             <span style=\"color: #00af00; text-decoration-color: #00af00\">420</span> │\n",
              "└──────────────────────────────────────┴─────────────────────────────┴─────────────────┘\n",
              "</pre>\n"
            ],
            "text/plain": [
              "┏━━━━━━━━━━━━━━━━━━━━━━━━━━━━━━━━━━━━━━┳━━━━━━━━━━━━━━━━━━━━━━━━━━━━━┳━━━━━━━━━━━━━━━━━┓\n",
              "┃\u001b[1m \u001b[0m\u001b[1mLayer (type)                        \u001b[0m\u001b[1m \u001b[0m┃\u001b[1m \u001b[0m\u001b[1mOutput Shape               \u001b[0m\u001b[1m \u001b[0m┃\u001b[1m \u001b[0m\u001b[1m        Param #\u001b[0m\u001b[1m \u001b[0m┃\n",
              "┡━━━━━━━━━━━━━━━━━━━━━━━━━━━━━━━━━━━━━━╇━━━━━━━━━━━━━━━━━━━━━━━━━━━━━╇━━━━━━━━━━━━━━━━━┩\n",
              "│ sequential_14 (\u001b[38;5;33mSequential\u001b[0m)           │ (\u001b[38;5;45mNone\u001b[0m, \u001b[38;5;34m3\u001b[0m)                   │             \u001b[38;5;34m399\u001b[0m │\n",
              "├──────────────────────────────────────┼─────────────────────────────┼─────────────────┤\n",
              "│ sequential_15 (\u001b[38;5;33mSequential\u001b[0m)           │ (\u001b[38;5;45mNone\u001b[0m, \u001b[38;5;34m24\u001b[0m)                  │             \u001b[38;5;34m420\u001b[0m │\n",
              "└──────────────────────────────────────┴─────────────────────────────┴─────────────────┘\n"
            ]
          },
          "metadata": {},
          "output_type": "display_data"
        },
        {
          "data": {
            "text/html": [
              "<pre style=\"white-space:pre;overflow-x:auto;line-height:normal;font-family:Menlo,'DejaVu Sans Mono',consolas,'Courier New',monospace\"><span style=\"font-weight: bold\"> Total params: </span><span style=\"color: #00af00; text-decoration-color: #00af00\">819</span> (3.20 KB)\n",
              "</pre>\n"
            ],
            "text/plain": [
              "\u001b[1m Total params: \u001b[0m\u001b[38;5;34m819\u001b[0m (3.20 KB)\n"
            ]
          },
          "metadata": {},
          "output_type": "display_data"
        },
        {
          "data": {
            "text/html": [
              "<pre style=\"white-space:pre;overflow-x:auto;line-height:normal;font-family:Menlo,'DejaVu Sans Mono',consolas,'Courier New',monospace\"><span style=\"font-weight: bold\"> Trainable params: </span><span style=\"color: #00af00; text-decoration-color: #00af00\">819</span> (3.20 KB)\n",
              "</pre>\n"
            ],
            "text/plain": [
              "\u001b[1m Trainable params: \u001b[0m\u001b[38;5;34m819\u001b[0m (3.20 KB)\n"
            ]
          },
          "metadata": {},
          "output_type": "display_data"
        },
        {
          "data": {
            "text/html": [
              "<pre style=\"white-space:pre;overflow-x:auto;line-height:normal;font-family:Menlo,'DejaVu Sans Mono',consolas,'Courier New',monospace\"><span style=\"font-weight: bold\"> Non-trainable params: </span><span style=\"color: #00af00; text-decoration-color: #00af00\">0</span> (0.00 B)\n",
              "</pre>\n"
            ],
            "text/plain": [
              "\u001b[1m Non-trainable params: \u001b[0m\u001b[38;5;34m0\u001b[0m (0.00 B)\n"
            ]
          },
          "metadata": {},
          "output_type": "display_data"
        },
        {
          "data": {
            "text/html": [
              "<pre style=\"white-space:pre;overflow-x:auto;line-height:normal;font-family:Menlo,'DejaVu Sans Mono',consolas,'Courier New',monospace\"><span style=\"font-weight: bold\">Model: \"sequential_14\"</span>\n",
              "</pre>\n"
            ],
            "text/plain": [
              "\u001b[1mModel: \"sequential_14\"\u001b[0m\n"
            ]
          },
          "metadata": {},
          "output_type": "display_data"
        },
        {
          "data": {
            "text/html": [
              "<pre style=\"white-space:pre;overflow-x:auto;line-height:normal;font-family:Menlo,'DejaVu Sans Mono',consolas,'Courier New',monospace\">┏━━━━━━━━━━━━━━━━━━━━━━━━━━━━━━━━━━━━━━┳━━━━━━━━━━━━━━━━━━━━━━━━━━━━━┳━━━━━━━━━━━━━━━━━┓\n",
              "┃<span style=\"font-weight: bold\"> Layer (type)                         </span>┃<span style=\"font-weight: bold\"> Output Shape                </span>┃<span style=\"font-weight: bold\">         Param # </span>┃\n",
              "┡━━━━━━━━━━━━━━━━━━━━━━━━━━━━━━━━━━━━━━╇━━━━━━━━━━━━━━━━━━━━━━━━━━━━━╇━━━━━━━━━━━━━━━━━┩\n",
              "│ dense_189 (<span style=\"color: #0087ff; text-decoration-color: #0087ff\">Dense</span>)                    │ (<span style=\"color: #00d7ff; text-decoration-color: #00d7ff\">None</span>, <span style=\"color: #00af00; text-decoration-color: #00af00\">12</span>)                  │             <span style=\"color: #00af00; text-decoration-color: #00af00\">300</span> │\n",
              "├──────────────────────────────────────┼─────────────────────────────┼─────────────────┤\n",
              "│ dense_190 (<span style=\"color: #0087ff; text-decoration-color: #0087ff\">Dense</span>)                    │ (<span style=\"color: #00d7ff; text-decoration-color: #00d7ff\">None</span>, <span style=\"color: #00af00; text-decoration-color: #00af00\">6</span>)                   │              <span style=\"color: #00af00; text-decoration-color: #00af00\">78</span> │\n",
              "├──────────────────────────────────────┼─────────────────────────────┼─────────────────┤\n",
              "│ dense_191 (<span style=\"color: #0087ff; text-decoration-color: #0087ff\">Dense</span>)                    │ (<span style=\"color: #00d7ff; text-decoration-color: #00d7ff\">None</span>, <span style=\"color: #00af00; text-decoration-color: #00af00\">3</span>)                   │              <span style=\"color: #00af00; text-decoration-color: #00af00\">21</span> │\n",
              "└──────────────────────────────────────┴─────────────────────────────┴─────────────────┘\n",
              "</pre>\n"
            ],
            "text/plain": [
              "┏━━━━━━━━━━━━━━━━━━━━━━━━━━━━━━━━━━━━━━┳━━━━━━━━━━━━━━━━━━━━━━━━━━━━━┳━━━━━━━━━━━━━━━━━┓\n",
              "┃\u001b[1m \u001b[0m\u001b[1mLayer (type)                        \u001b[0m\u001b[1m \u001b[0m┃\u001b[1m \u001b[0m\u001b[1mOutput Shape               \u001b[0m\u001b[1m \u001b[0m┃\u001b[1m \u001b[0m\u001b[1m        Param #\u001b[0m\u001b[1m \u001b[0m┃\n",
              "┡━━━━━━━━━━━━━━━━━━━━━━━━━━━━━━━━━━━━━━╇━━━━━━━━━━━━━━━━━━━━━━━━━━━━━╇━━━━━━━━━━━━━━━━━┩\n",
              "│ dense_189 (\u001b[38;5;33mDense\u001b[0m)                    │ (\u001b[38;5;45mNone\u001b[0m, \u001b[38;5;34m12\u001b[0m)                  │             \u001b[38;5;34m300\u001b[0m │\n",
              "├──────────────────────────────────────┼─────────────────────────────┼─────────────────┤\n",
              "│ dense_190 (\u001b[38;5;33mDense\u001b[0m)                    │ (\u001b[38;5;45mNone\u001b[0m, \u001b[38;5;34m6\u001b[0m)                   │              \u001b[38;5;34m78\u001b[0m │\n",
              "├──────────────────────────────────────┼─────────────────────────────┼─────────────────┤\n",
              "│ dense_191 (\u001b[38;5;33mDense\u001b[0m)                    │ (\u001b[38;5;45mNone\u001b[0m, \u001b[38;5;34m3\u001b[0m)                   │              \u001b[38;5;34m21\u001b[0m │\n",
              "└──────────────────────────────────────┴─────────────────────────────┴─────────────────┘\n"
            ]
          },
          "metadata": {},
          "output_type": "display_data"
        },
        {
          "data": {
            "text/html": [
              "<pre style=\"white-space:pre;overflow-x:auto;line-height:normal;font-family:Menlo,'DejaVu Sans Mono',consolas,'Courier New',monospace\"><span style=\"font-weight: bold\"> Total params: </span><span style=\"color: #00af00; text-decoration-color: #00af00\">399</span> (1.56 KB)\n",
              "</pre>\n"
            ],
            "text/plain": [
              "\u001b[1m Total params: \u001b[0m\u001b[38;5;34m399\u001b[0m (1.56 KB)\n"
            ]
          },
          "metadata": {},
          "output_type": "display_data"
        },
        {
          "data": {
            "text/html": [
              "<pre style=\"white-space:pre;overflow-x:auto;line-height:normal;font-family:Menlo,'DejaVu Sans Mono',consolas,'Courier New',monospace\"><span style=\"font-weight: bold\"> Trainable params: </span><span style=\"color: #00af00; text-decoration-color: #00af00\">399</span> (1.56 KB)\n",
              "</pre>\n"
            ],
            "text/plain": [
              "\u001b[1m Trainable params: \u001b[0m\u001b[38;5;34m399\u001b[0m (1.56 KB)\n"
            ]
          },
          "metadata": {},
          "output_type": "display_data"
        },
        {
          "data": {
            "text/html": [
              "<pre style=\"white-space:pre;overflow-x:auto;line-height:normal;font-family:Menlo,'DejaVu Sans Mono',consolas,'Courier New',monospace\"><span style=\"font-weight: bold\"> Non-trainable params: </span><span style=\"color: #00af00; text-decoration-color: #00af00\">0</span> (0.00 B)\n",
              "</pre>\n"
            ],
            "text/plain": [
              "\u001b[1m Non-trainable params: \u001b[0m\u001b[38;5;34m0\u001b[0m (0.00 B)\n"
            ]
          },
          "metadata": {},
          "output_type": "display_data"
        },
        {
          "data": {
            "text/html": [
              "<pre style=\"white-space:pre;overflow-x:auto;line-height:normal;font-family:Menlo,'DejaVu Sans Mono',consolas,'Courier New',monospace\"><span style=\"font-weight: bold\">Model: \"sequential_15\"</span>\n",
              "</pre>\n"
            ],
            "text/plain": [
              "\u001b[1mModel: \"sequential_15\"\u001b[0m\n"
            ]
          },
          "metadata": {},
          "output_type": "display_data"
        },
        {
          "data": {
            "text/html": [
              "<pre style=\"white-space:pre;overflow-x:auto;line-height:normal;font-family:Menlo,'DejaVu Sans Mono',consolas,'Courier New',monospace\">┏━━━━━━━━━━━━━━━━━━━━━━━━━━━━━━━━━━━━━━┳━━━━━━━━━━━━━━━━━━━━━━━━━━━━━┳━━━━━━━━━━━━━━━━━┓\n",
              "┃<span style=\"font-weight: bold\"> Layer (type)                         </span>┃<span style=\"font-weight: bold\"> Output Shape                </span>┃<span style=\"font-weight: bold\">         Param # </span>┃\n",
              "┡━━━━━━━━━━━━━━━━━━━━━━━━━━━━━━━━━━━━━━╇━━━━━━━━━━━━━━━━━━━━━━━━━━━━━╇━━━━━━━━━━━━━━━━━┩\n",
              "│ dense_192 (<span style=\"color: #0087ff; text-decoration-color: #0087ff\">Dense</span>)                    │ (<span style=\"color: #00d7ff; text-decoration-color: #00d7ff\">None</span>, <span style=\"color: #00af00; text-decoration-color: #00af00\">6</span>)                   │              <span style=\"color: #00af00; text-decoration-color: #00af00\">24</span> │\n",
              "├──────────────────────────────────────┼─────────────────────────────┼─────────────────┤\n",
              "│ dense_193 (<span style=\"color: #0087ff; text-decoration-color: #0087ff\">Dense</span>)                    │ (<span style=\"color: #00d7ff; text-decoration-color: #00d7ff\">None</span>, <span style=\"color: #00af00; text-decoration-color: #00af00\">12</span>)                  │              <span style=\"color: #00af00; text-decoration-color: #00af00\">84</span> │\n",
              "├──────────────────────────────────────┼─────────────────────────────┼─────────────────┤\n",
              "│ dense_194 (<span style=\"color: #0087ff; text-decoration-color: #0087ff\">Dense</span>)                    │ (<span style=\"color: #00d7ff; text-decoration-color: #00d7ff\">None</span>, <span style=\"color: #00af00; text-decoration-color: #00af00\">24</span>)                  │             <span style=\"color: #00af00; text-decoration-color: #00af00\">312</span> │\n",
              "└──────────────────────────────────────┴─────────────────────────────┴─────────────────┘\n",
              "</pre>\n"
            ],
            "text/plain": [
              "┏━━━━━━━━━━━━━━━━━━━━━━━━━━━━━━━━━━━━━━┳━━━━━━━━━━━━━━━━━━━━━━━━━━━━━┳━━━━━━━━━━━━━━━━━┓\n",
              "┃\u001b[1m \u001b[0m\u001b[1mLayer (type)                        \u001b[0m\u001b[1m \u001b[0m┃\u001b[1m \u001b[0m\u001b[1mOutput Shape               \u001b[0m\u001b[1m \u001b[0m┃\u001b[1m \u001b[0m\u001b[1m        Param #\u001b[0m\u001b[1m \u001b[0m┃\n",
              "┡━━━━━━━━━━━━━━━━━━━━━━━━━━━━━━━━━━━━━━╇━━━━━━━━━━━━━━━━━━━━━━━━━━━━━╇━━━━━━━━━━━━━━━━━┩\n",
              "│ dense_192 (\u001b[38;5;33mDense\u001b[0m)                    │ (\u001b[38;5;45mNone\u001b[0m, \u001b[38;5;34m6\u001b[0m)                   │              \u001b[38;5;34m24\u001b[0m │\n",
              "├──────────────────────────────────────┼─────────────────────────────┼─────────────────┤\n",
              "│ dense_193 (\u001b[38;5;33mDense\u001b[0m)                    │ (\u001b[38;5;45mNone\u001b[0m, \u001b[38;5;34m12\u001b[0m)                  │              \u001b[38;5;34m84\u001b[0m │\n",
              "├──────────────────────────────────────┼─────────────────────────────┼─────────────────┤\n",
              "│ dense_194 (\u001b[38;5;33mDense\u001b[0m)                    │ (\u001b[38;5;45mNone\u001b[0m, \u001b[38;5;34m24\u001b[0m)                  │             \u001b[38;5;34m312\u001b[0m │\n",
              "└──────────────────────────────────────┴─────────────────────────────┴─────────────────┘\n"
            ]
          },
          "metadata": {},
          "output_type": "display_data"
        },
        {
          "data": {
            "text/html": [
              "<pre style=\"white-space:pre;overflow-x:auto;line-height:normal;font-family:Menlo,'DejaVu Sans Mono',consolas,'Courier New',monospace\"><span style=\"font-weight: bold\"> Total params: </span><span style=\"color: #00af00; text-decoration-color: #00af00\">420</span> (1.64 KB)\n",
              "</pre>\n"
            ],
            "text/plain": [
              "\u001b[1m Total params: \u001b[0m\u001b[38;5;34m420\u001b[0m (1.64 KB)\n"
            ]
          },
          "metadata": {},
          "output_type": "display_data"
        },
        {
          "data": {
            "text/html": [
              "<pre style=\"white-space:pre;overflow-x:auto;line-height:normal;font-family:Menlo,'DejaVu Sans Mono',consolas,'Courier New',monospace\"><span style=\"font-weight: bold\"> Trainable params: </span><span style=\"color: #00af00; text-decoration-color: #00af00\">420</span> (1.64 KB)\n",
              "</pre>\n"
            ],
            "text/plain": [
              "\u001b[1m Trainable params: \u001b[0m\u001b[38;5;34m420\u001b[0m (1.64 KB)\n"
            ]
          },
          "metadata": {},
          "output_type": "display_data"
        },
        {
          "data": {
            "text/html": [
              "<pre style=\"white-space:pre;overflow-x:auto;line-height:normal;font-family:Menlo,'DejaVu Sans Mono',consolas,'Courier New',monospace\"><span style=\"font-weight: bold\"> Non-trainable params: </span><span style=\"color: #00af00; text-decoration-color: #00af00\">0</span> (0.00 B)\n",
              "</pre>\n"
            ],
            "text/plain": [
              "\u001b[1m Non-trainable params: \u001b[0m\u001b[38;5;34m0\u001b[0m (0.00 B)\n"
            ]
          },
          "metadata": {},
          "output_type": "display_data"
        }
      ],
      "source": [
        "autoencoder.summary()\n",
        "autoencoder.encoder.summary()\n",
        "autoencoder.decoder.summary()"
      ]
    },
    {
      "cell_type": "code",
      "execution_count": null,
      "metadata": {
        "colab": {
          "base_uri": "https://localhost:8080/"
        },
        "id": "mLWl3AWVhWgA",
        "outputId": "8d0024a3-629a-4824-e43e-066f70dbb6cd"
      },
      "outputs": [
        {
          "name": "stdout",
          "output_type": "stream",
          "text": [
            "Epoch 1/10\n",
            "\u001b[1m4515/4515\u001b[0m \u001b[32m━━━━━━━━━━━━━━━━━━━━\u001b[0m\u001b[37m\u001b[0m \u001b[1m18s\u001b[0m 3ms/step - loss: 0.0478 - val_loss: 0.0255\n",
            "Epoch 2/10\n",
            "\u001b[1m4515/4515\u001b[0m \u001b[32m━━━━━━━━━━━━━━━━━━━━\u001b[0m\u001b[37m\u001b[0m \u001b[1m16s\u001b[0m 4ms/step - loss: 1.3947e-06 - val_loss: 0.0254\n",
            "Epoch 3/10\n",
            "\u001b[1m4515/4515\u001b[0m \u001b[32m━━━━━━━━━━━━━━━━━━━━\u001b[0m\u001b[37m\u001b[0m \u001b[1m16s\u001b[0m 4ms/step - loss: 8.1380e-08 - val_loss: 0.0254\n",
            "Epoch 4/10\n",
            "\u001b[1m4515/4515\u001b[0m \u001b[32m━━━━━━━━━━━━━━━━━━━━\u001b[0m\u001b[37m\u001b[0m \u001b[1m21s\u001b[0m 4ms/step - loss: 8.5031e-09 - val_loss: 0.0254\n",
            "Epoch 5/10\n",
            "\u001b[1m4515/4515\u001b[0m \u001b[32m━━━━━━━━━━━━━━━━━━━━\u001b[0m\u001b[37m\u001b[0m \u001b[1m18s\u001b[0m 4ms/step - loss: 1.3046e-09 - val_loss: 0.0254\n",
            "Epoch 6/10\n",
            "\u001b[1m4515/4515\u001b[0m \u001b[32m━━━━━━━━━━━━━━━━━━━━\u001b[0m\u001b[37m\u001b[0m \u001b[1m18s\u001b[0m 3ms/step - loss: 6.3921e-10 - val_loss: 0.0254\n",
            "Epoch 7/10\n",
            "\u001b[1m4515/4515\u001b[0m \u001b[32m━━━━━━━━━━━━━━━━━━━━\u001b[0m\u001b[37m\u001b[0m \u001b[1m16s\u001b[0m 4ms/step - loss: 5.6757e-10 - val_loss: 0.0254\n",
            "Epoch 8/10\n",
            "\u001b[1m4515/4515\u001b[0m \u001b[32m━━━━━━━━━━━━━━━━━━━━\u001b[0m\u001b[37m\u001b[0m \u001b[1m16s\u001b[0m 4ms/step - loss: 5.3971e-10 - val_loss: 0.0254\n",
            "Epoch 9/10\n",
            "\u001b[1m4515/4515\u001b[0m \u001b[32m━━━━━━━━━━━━━━━━━━━━\u001b[0m\u001b[37m\u001b[0m \u001b[1m16s\u001b[0m 4ms/step - loss: 5.3536e-10 - val_loss: 0.0254\n",
            "Epoch 10/10\n",
            "\u001b[1m4515/4515\u001b[0m \u001b[32m━━━━━━━━━━━━━━━━━━━━\u001b[0m\u001b[37m\u001b[0m \u001b[1m16s\u001b[0m 4ms/step - loss: 5.2673e-10 - val_loss: 0.0254\n",
            "Restoring model weights from the end of the best epoch: 10.\n"
          ]
        }
      ],
      "source": [
        "#comperison among epochs\n",
        "## fit format: https://www.tensorflow.org/api_docs/python/tf/keras/Model\n",
        "# p1: x --> input\n",
        "# p2: y --> target data, in our case: same, we are developing autoencoders\n",
        "\n",
        "# p3: batchsize, default = 32. We are setting to 256, as done in CNN for previous project.\n",
        "# It is a good balanced for effiecency and accuracy\n",
        "\n",
        "# p4: epochs. We can perform eraly stopping tencnique and see which is the best one\n",
        "# p5: validation_data: Data on which to evaluate the loss and any model metrics at the end of each epoch\n",
        "# --> in our case x_test, x_test\n",
        "# --> created on the full dataset, so anomaly + normal data\n",
        "\n",
        "history_classical_autoencoder = autoencoder.fit(X_train_begign, X_train_begign,\n",
        "                                                epochs=10,\n",
        "                                                shuffle=True,\n",
        "                                                batch_size=256,\n",
        "                                                validation_data=(X_test, X_test),\n",
        "                                                callbacks=[early_stopping]\n",
        "                                                )"
      ]
    },
    {
      "cell_type": "markdown",
      "metadata": {
        "id": "iEBYs2R9qysW"
      },
      "source": [
        "# Variational Autoencoder"
      ]
    },
    {
      "cell_type": "code",
      "execution_count": null,
      "metadata": {
        "id": "VKO_AjeI3Uz4"
      },
      "outputs": [],
      "source": [
        "#Encoder class\n",
        "class Encoder(tf.keras.Model):\n",
        "    def __init__(self, latent_dim= 3):\n",
        "        super(Encoder, self).__init__()\n",
        "        self.dense1 = layers.Dense(24, activation='relu')\n",
        "        self.dense2 = layers.Dense(12, activation='relu')\n",
        "        self.dense3 = layers.Dense(6, activation='relu')\n",
        "        #create two different parallel layers to calculate mean and log_var\n",
        "        self.mean = layers.Dense(latent_dim)\n",
        "        self.log_var = layers.Dense(latent_dim)\n",
        "\n",
        "    def call(self, inputs):\n",
        "        x = self.dense1(inputs)\n",
        "        x = self.dense2(x)\n",
        "        x = self.dense3(x)\n",
        "        mean = self.mean(x)\n",
        "        log_var = self.log_var(x)\n",
        "        return mean, log_var"
      ]
    },
    {
      "cell_type": "code",
      "execution_count": null,
      "metadata": {
        "id": "-PppvoFB3WL5"
      },
      "outputs": [],
      "source": [
        "class Decoder(tf.keras.Model):\n",
        "    def __init__(self, original_dim):\n",
        "        super(Decoder, self).__init__()\n",
        "        self.dense1 = layers.Dense(6, activation='relu')\n",
        "        self.dense2 = layers.Dense(12, activation='relu')\n",
        "        self.output_layer = layers.Dense(original_dim, activation='sigmoid')\n",
        "\n",
        "    def call(self, inputs):\n",
        "        x = self.dense1(inputs)\n",
        "        x = self.dense2(x)\n",
        "        return self.output_layer(x)"
      ]
    },
    {
      "cell_type": "code",
      "execution_count": null,
      "metadata": {
        "id": "np26_us53bL1"
      },
      "outputs": [],
      "source": [
        "def sampling(mean, log_var):\n",
        "    # https://www.tensorflow.org/api_docs/python/tf/random/normal\n",
        "    epsilon = tf.random.normal(shape=tf.shape(mean))\n",
        "    return mean + tf.exp(0.5 * log_var) * epsilon"
      ]
    },
    {
      "cell_type": "code",
      "execution_count": null,
      "metadata": {
        "id": "C-boakn83dds"
      },
      "outputs": [],
      "source": [
        "class VAE(tf.keras.Model):\n",
        "    #Create an VAE autoencoder\n",
        "    def __init__(self, latent_dim, original_dim):\n",
        "        super(VAE, self).__init__()\n",
        "        self.encoder = Encoder(latent_dim)\n",
        "        self.decoder = Decoder(original_dim)\n",
        "\n",
        "    #Move data flow among NN\n",
        "    def call(self, inputs):\n",
        "        mean, log_var = self.encoder(inputs)\n",
        "        z = sampling(mean, log_var)\n",
        "        return self.decoder(z)\n",
        "    #We have created our specific loss function in our model\n",
        "\n",
        "    def compute_loss(self, inputs, reconstructed, mean, log_var):\n",
        "        # two types of losses:\n",
        "        # 1. This term measures the dissimilarity between the original input and its reconstruction produced by the decoder\n",
        "        # examples = MSE\n",
        "        # 2. KL Divergence Loss: https://kvfrans.com/deriving-the-kl/\n",
        "        # This term quantifies the divergence between the learned  latent variable distribution (posterior)\n",
        "        # and the prior distribution (typically a standard normal distribution).\n",
        "        reconstruction_loss = tf.reduce_sum(tf.square(inputs - reconstructed))\n",
        "        # kl_loss = sampling(mean, log_var)\n",
        "        return reconstruction_loss\n",
        "\n",
        "    #Override train_step to integrate the loss and backpropagation\n",
        "    def train_step(self, data):\n",
        "        # Data are what is given i .fit as x,y. In our case x = X_train, y = Y_train\n",
        "        x_batch_train, _ = data  # Assuming data is in the form (input, target), here we use input as both\n",
        "        with tf.GradientTape() as tape:\n",
        "            # Forward pass\n",
        "            mean, log_var = self.encoder(x_batch_train)\n",
        "            z = sampling(mean, log_var)\n",
        "            reconstructed = self.decoder(z)\n",
        "\n",
        "            # Compute loss\n",
        "            loss = self.compute_loss(x_batch_train, reconstructed, mean, log_var)\n",
        "\n",
        "        # Compute gradients\n",
        "        grads = tape.gradient(loss, self.trainable_variables)\n",
        "\n",
        "        # Apply gradients to update the model weights\n",
        "        self.optimizer.apply_gradients(zip(grads, self.trainable_variables))\n",
        "\n",
        "        return {'loss': loss}\n"
      ]
    },
    {
      "cell_type": "code",
      "execution_count": null,
      "metadata": {
        "colab": {
          "base_uri": "https://localhost:8080/",
          "height": 532
        },
        "id": "RIatjPOmFaSr",
        "outputId": "d0cb103c-8ff7-4f80-b830-7a1b6d0fd788"
      },
      "outputs": [
        {
          "data": {
            "text/html": [
              "<pre style=\"white-space:pre;overflow-x:auto;line-height:normal;font-family:Menlo,'DejaVu Sans Mono',consolas,'Courier New',monospace\"><span style=\"font-weight: bold\">Model: \"encoder_12\"</span>\n",
              "</pre>\n"
            ],
            "text/plain": [
              "\u001b[1mModel: \"encoder_12\"\u001b[0m\n"
            ]
          },
          "metadata": {},
          "output_type": "display_data"
        },
        {
          "data": {
            "text/html": [
              "<pre style=\"white-space:pre;overflow-x:auto;line-height:normal;font-family:Menlo,'DejaVu Sans Mono',consolas,'Courier New',monospace\">┏━━━━━━━━━━━━━━━━━━━━━━━━━━━━━━━━━━━━━━┳━━━━━━━━━━━━━━━━━━━━━━━━━━━━━┳━━━━━━━━━━━━━━━━━┓\n",
              "┃<span style=\"font-weight: bold\"> Layer (type)                         </span>┃<span style=\"font-weight: bold\"> Output Shape                </span>┃<span style=\"font-weight: bold\">         Param # </span>┃\n",
              "┡━━━━━━━━━━━━━━━━━━━━━━━━━━━━━━━━━━━━━━╇━━━━━━━━━━━━━━━━━━━━━━━━━━━━━╇━━━━━━━━━━━━━━━━━┩\n",
              "│ dense_203 (<span style=\"color: #0087ff; text-decoration-color: #0087ff\">Dense</span>)                    │ ?                           │     <span style=\"color: #00af00; text-decoration-color: #00af00\">0</span> (unbuilt) │\n",
              "├──────────────────────────────────────┼─────────────────────────────┼─────────────────┤\n",
              "│ dense_204 (<span style=\"color: #0087ff; text-decoration-color: #0087ff\">Dense</span>)                    │ ?                           │     <span style=\"color: #00af00; text-decoration-color: #00af00\">0</span> (unbuilt) │\n",
              "├──────────────────────────────────────┼─────────────────────────────┼─────────────────┤\n",
              "│ dense_205 (<span style=\"color: #0087ff; text-decoration-color: #0087ff\">Dense</span>)                    │ ?                           │     <span style=\"color: #00af00; text-decoration-color: #00af00\">0</span> (unbuilt) │\n",
              "├──────────────────────────────────────┼─────────────────────────────┼─────────────────┤\n",
              "│ dense_206 (<span style=\"color: #0087ff; text-decoration-color: #0087ff\">Dense</span>)                    │ ?                           │     <span style=\"color: #00af00; text-decoration-color: #00af00\">0</span> (unbuilt) │\n",
              "├──────────────────────────────────────┼─────────────────────────────┼─────────────────┤\n",
              "│ dense_207 (<span style=\"color: #0087ff; text-decoration-color: #0087ff\">Dense</span>)                    │ ?                           │     <span style=\"color: #00af00; text-decoration-color: #00af00\">0</span> (unbuilt) │\n",
              "└──────────────────────────────────────┴─────────────────────────────┴─────────────────┘\n",
              "</pre>\n"
            ],
            "text/plain": [
              "┏━━━━━━━━━━━━━━━━━━━━━━━━━━━━━━━━━━━━━━┳━━━━━━━━━━━━━━━━━━━━━━━━━━━━━┳━━━━━━━━━━━━━━━━━┓\n",
              "┃\u001b[1m \u001b[0m\u001b[1mLayer (type)                        \u001b[0m\u001b[1m \u001b[0m┃\u001b[1m \u001b[0m\u001b[1mOutput Shape               \u001b[0m\u001b[1m \u001b[0m┃\u001b[1m \u001b[0m\u001b[1m        Param #\u001b[0m\u001b[1m \u001b[0m┃\n",
              "┡━━━━━━━━━━━━━━━━━━━━━━━━━━━━━━━━━━━━━━╇━━━━━━━━━━━━━━━━━━━━━━━━━━━━━╇━━━━━━━━━━━━━━━━━┩\n",
              "│ dense_203 (\u001b[38;5;33mDense\u001b[0m)                    │ ?                           │     \u001b[38;5;34m0\u001b[0m (unbuilt) │\n",
              "├──────────────────────────────────────┼─────────────────────────────┼─────────────────┤\n",
              "│ dense_204 (\u001b[38;5;33mDense\u001b[0m)                    │ ?                           │     \u001b[38;5;34m0\u001b[0m (unbuilt) │\n",
              "├──────────────────────────────────────┼─────────────────────────────┼─────────────────┤\n",
              "│ dense_205 (\u001b[38;5;33mDense\u001b[0m)                    │ ?                           │     \u001b[38;5;34m0\u001b[0m (unbuilt) │\n",
              "├──────────────────────────────────────┼─────────────────────────────┼─────────────────┤\n",
              "│ dense_206 (\u001b[38;5;33mDense\u001b[0m)                    │ ?                           │     \u001b[38;5;34m0\u001b[0m (unbuilt) │\n",
              "├──────────────────────────────────────┼─────────────────────────────┼─────────────────┤\n",
              "│ dense_207 (\u001b[38;5;33mDense\u001b[0m)                    │ ?                           │     \u001b[38;5;34m0\u001b[0m (unbuilt) │\n",
              "└──────────────────────────────────────┴─────────────────────────────┴─────────────────┘\n"
            ]
          },
          "metadata": {},
          "output_type": "display_data"
        },
        {
          "data": {
            "text/html": [
              "<pre style=\"white-space:pre;overflow-x:auto;line-height:normal;font-family:Menlo,'DejaVu Sans Mono',consolas,'Courier New',monospace\"><span style=\"font-weight: bold\"> Total params: </span><span style=\"color: #00af00; text-decoration-color: #00af00\">0</span> (0.00 B)\n",
              "</pre>\n"
            ],
            "text/plain": [
              "\u001b[1m Total params: \u001b[0m\u001b[38;5;34m0\u001b[0m (0.00 B)\n"
            ]
          },
          "metadata": {},
          "output_type": "display_data"
        },
        {
          "data": {
            "text/html": [
              "<pre style=\"white-space:pre;overflow-x:auto;line-height:normal;font-family:Menlo,'DejaVu Sans Mono',consolas,'Courier New',monospace\"><span style=\"font-weight: bold\"> Trainable params: </span><span style=\"color: #00af00; text-decoration-color: #00af00\">0</span> (0.00 B)\n",
              "</pre>\n"
            ],
            "text/plain": [
              "\u001b[1m Trainable params: \u001b[0m\u001b[38;5;34m0\u001b[0m (0.00 B)\n"
            ]
          },
          "metadata": {},
          "output_type": "display_data"
        },
        {
          "data": {
            "text/html": [
              "<pre style=\"white-space:pre;overflow-x:auto;line-height:normal;font-family:Menlo,'DejaVu Sans Mono',consolas,'Courier New',monospace\"><span style=\"font-weight: bold\"> Non-trainable params: </span><span style=\"color: #00af00; text-decoration-color: #00af00\">0</span> (0.00 B)\n",
              "</pre>\n"
            ],
            "text/plain": [
              "\u001b[1m Non-trainable params: \u001b[0m\u001b[38;5;34m0\u001b[0m (0.00 B)\n"
            ]
          },
          "metadata": {},
          "output_type": "display_data"
        },
        {
          "data": {
            "text/html": [
              "<pre style=\"white-space:pre;overflow-x:auto;line-height:normal;font-family:Menlo,'DejaVu Sans Mono',consolas,'Courier New',monospace\"><span style=\"font-weight: bold\">Model: \"decoder_9\"</span>\n",
              "</pre>\n"
            ],
            "text/plain": [
              "\u001b[1mModel: \"decoder_9\"\u001b[0m\n"
            ]
          },
          "metadata": {},
          "output_type": "display_data"
        },
        {
          "data": {
            "text/html": [
              "<pre style=\"white-space:pre;overflow-x:auto;line-height:normal;font-family:Menlo,'DejaVu Sans Mono',consolas,'Courier New',monospace\">┏━━━━━━━━━━━━━━━━━━━━━━━━━━━━━━━━━━━━━━┳━━━━━━━━━━━━━━━━━━━━━━━━━━━━━┳━━━━━━━━━━━━━━━━━┓\n",
              "┃<span style=\"font-weight: bold\"> Layer (type)                         </span>┃<span style=\"font-weight: bold\"> Output Shape                </span>┃<span style=\"font-weight: bold\">         Param # </span>┃\n",
              "┡━━━━━━━━━━━━━━━━━━━━━━━━━━━━━━━━━━━━━━╇━━━━━━━━━━━━━━━━━━━━━━━━━━━━━╇━━━━━━━━━━━━━━━━━┩\n",
              "│ dense_208 (<span style=\"color: #0087ff; text-decoration-color: #0087ff\">Dense</span>)                    │ ?                           │     <span style=\"color: #00af00; text-decoration-color: #00af00\">0</span> (unbuilt) │\n",
              "├──────────────────────────────────────┼─────────────────────────────┼─────────────────┤\n",
              "│ dense_209 (<span style=\"color: #0087ff; text-decoration-color: #0087ff\">Dense</span>)                    │ ?                           │     <span style=\"color: #00af00; text-decoration-color: #00af00\">0</span> (unbuilt) │\n",
              "├──────────────────────────────────────┼─────────────────────────────┼─────────────────┤\n",
              "│ dense_210 (<span style=\"color: #0087ff; text-decoration-color: #0087ff\">Dense</span>)                    │ ?                           │     <span style=\"color: #00af00; text-decoration-color: #00af00\">0</span> (unbuilt) │\n",
              "└──────────────────────────────────────┴─────────────────────────────┴─────────────────┘\n",
              "</pre>\n"
            ],
            "text/plain": [
              "┏━━━━━━━━━━━━━━━━━━━━━━━━━━━━━━━━━━━━━━┳━━━━━━━━━━━━━━━━━━━━━━━━━━━━━┳━━━━━━━━━━━━━━━━━┓\n",
              "┃\u001b[1m \u001b[0m\u001b[1mLayer (type)                        \u001b[0m\u001b[1m \u001b[0m┃\u001b[1m \u001b[0m\u001b[1mOutput Shape               \u001b[0m\u001b[1m \u001b[0m┃\u001b[1m \u001b[0m\u001b[1m        Param #\u001b[0m\u001b[1m \u001b[0m┃\n",
              "┡━━━━━━━━━━━━━━━━━━━━━━━━━━━━━━━━━━━━━━╇━━━━━━━━━━━━━━━━━━━━━━━━━━━━━╇━━━━━━━━━━━━━━━━━┩\n",
              "│ dense_208 (\u001b[38;5;33mDense\u001b[0m)                    │ ?                           │     \u001b[38;5;34m0\u001b[0m (unbuilt) │\n",
              "├──────────────────────────────────────┼─────────────────────────────┼─────────────────┤\n",
              "│ dense_209 (\u001b[38;5;33mDense\u001b[0m)                    │ ?                           │     \u001b[38;5;34m0\u001b[0m (unbuilt) │\n",
              "├──────────────────────────────────────┼─────────────────────────────┼─────────────────┤\n",
              "│ dense_210 (\u001b[38;5;33mDense\u001b[0m)                    │ ?                           │     \u001b[38;5;34m0\u001b[0m (unbuilt) │\n",
              "└──────────────────────────────────────┴─────────────────────────────┴─────────────────┘\n"
            ]
          },
          "metadata": {},
          "output_type": "display_data"
        },
        {
          "data": {
            "text/html": [
              "<pre style=\"white-space:pre;overflow-x:auto;line-height:normal;font-family:Menlo,'DejaVu Sans Mono',consolas,'Courier New',monospace\"><span style=\"font-weight: bold\"> Total params: </span><span style=\"color: #00af00; text-decoration-color: #00af00\">0</span> (0.00 B)\n",
              "</pre>\n"
            ],
            "text/plain": [
              "\u001b[1m Total params: \u001b[0m\u001b[38;5;34m0\u001b[0m (0.00 B)\n"
            ]
          },
          "metadata": {},
          "output_type": "display_data"
        },
        {
          "data": {
            "text/html": [
              "<pre style=\"white-space:pre;overflow-x:auto;line-height:normal;font-family:Menlo,'DejaVu Sans Mono',consolas,'Courier New',monospace\"><span style=\"font-weight: bold\"> Trainable params: </span><span style=\"color: #00af00; text-decoration-color: #00af00\">0</span> (0.00 B)\n",
              "</pre>\n"
            ],
            "text/plain": [
              "\u001b[1m Trainable params: \u001b[0m\u001b[38;5;34m0\u001b[0m (0.00 B)\n"
            ]
          },
          "metadata": {},
          "output_type": "display_data"
        },
        {
          "data": {
            "text/html": [
              "<pre style=\"white-space:pre;overflow-x:auto;line-height:normal;font-family:Menlo,'DejaVu Sans Mono',consolas,'Courier New',monospace\"><span style=\"font-weight: bold\"> Non-trainable params: </span><span style=\"color: #00af00; text-decoration-color: #00af00\">0</span> (0.00 B)\n",
              "</pre>\n"
            ],
            "text/plain": [
              "\u001b[1m Non-trainable params: \u001b[0m\u001b[38;5;34m0\u001b[0m (0.00 B)\n"
            ]
          },
          "metadata": {},
          "output_type": "display_data"
        }
      ],
      "source": [
        "vae = VAE(latent_dim=3, original_dim=X_train.shape[1])\n",
        "\n",
        "encoder = Encoder(latent_dim=3)\n",
        "decoder = Decoder(original_dim=X_train.shape[1])\n",
        "encoder.summary()\n",
        "decoder.summary()"
      ]
    },
    {
      "cell_type": "code",
      "execution_count": null,
      "metadata": {
        "colab": {
          "base_uri": "https://localhost:8080/"
        },
        "id": "s3s3yl3A5DdB",
        "outputId": "ce83a3e2-6f46-4f04-a43a-d5694bdc99fc"
      },
      "outputs": [
        {
          "name": "stdout",
          "output_type": "stream",
          "text": [
            "Epoch 1/10\n",
            "\u001b[1m4515/4515\u001b[0m \u001b[32m━━━━━━━━━━━━━━━━━━━━\u001b[0m\u001b[37m\u001b[0m \u001b[1m20s\u001b[0m 4ms/step - loss: 47.0076 - val_loss: 0.0000e+00\n",
            "Epoch 2/10\n",
            "\u001b[1m4515/4515\u001b[0m \u001b[32m━━━━━━━━━━━━━━━━━━━━\u001b[0m\u001b[37m\u001b[0m \u001b[1m17s\u001b[0m 4ms/step - loss: 0.0041 - val_loss: 0.0000e+00\n",
            "Epoch 3/10\n",
            "\u001b[1m4515/4515\u001b[0m \u001b[32m━━━━━━━━━━━━━━━━━━━━\u001b[0m\u001b[37m\u001b[0m \u001b[1m17s\u001b[0m 4ms/step - loss: 2.6973e-04 - val_loss: 0.0000e+00\n",
            "Epoch 4/10\n",
            "\u001b[1m4515/4515\u001b[0m \u001b[32m━━━━━━━━━━━━━━━━━━━━\u001b[0m\u001b[37m\u001b[0m \u001b[1m16s\u001b[0m 4ms/step - loss: 2.1163e-05 - val_loss: 0.0000e+00\n",
            "Epoch 5/10\n",
            "\u001b[1m4515/4515\u001b[0m \u001b[32m━━━━━━━━━━━━━━━━━━━━\u001b[0m\u001b[37m\u001b[0m \u001b[1m22s\u001b[0m 4ms/step - loss: 1.7464e-06 - val_loss: 0.0000e+00\n",
            "Epoch 6/10\n",
            "\u001b[1m4515/4515\u001b[0m \u001b[32m━━━━━━━━━━━━━━━━━━━━\u001b[0m\u001b[37m\u001b[0m \u001b[1m17s\u001b[0m 4ms/step - loss: 1.5029e-07 - val_loss: 0.0000e+00\n",
            "Epoch 7/10\n",
            "\u001b[1m4515/4515\u001b[0m \u001b[32m━━━━━━━━━━━━━━━━━━━━\u001b[0m\u001b[37m\u001b[0m \u001b[1m20s\u001b[0m 4ms/step - loss: 1.3653e-08 - val_loss: 0.0000e+00\n",
            "Epoch 8/10\n",
            "\u001b[1m4515/4515\u001b[0m \u001b[32m━━━━━━━━━━━━━━━━━━━━\u001b[0m\u001b[37m\u001b[0m \u001b[1m21s\u001b[0m 4ms/step - loss: 1.5353e-09 - val_loss: 0.0000e+00\n",
            "Epoch 9/10\n",
            "\u001b[1m4515/4515\u001b[0m \u001b[32m━━━━━━━━━━━━━━━━━━━━\u001b[0m\u001b[37m\u001b[0m \u001b[1m23s\u001b[0m 4ms/step - loss: 2.7033e-10 - val_loss: 0.0000e+00\n",
            "Epoch 10/10\n",
            "\u001b[1m4515/4515\u001b[0m \u001b[32m━━━━━━━━━━━━━━━━━━━━\u001b[0m\u001b[37m\u001b[0m \u001b[1m17s\u001b[0m 4ms/step - loss: 9.0163e-11 - val_loss: 0.0000e+00\n"
          ]
        }
      ],
      "source": [
        "## Vae creation\n",
        "# compiling a model means preparing it for training by setting up the necessary\n",
        "# components that will allow the model to optimize its weights and learn from the data\n",
        "# We can specify:\n",
        "# compile, loss function, metrics\n",
        "vae.compile(optimizer=tf.keras.optimizers.Adam(), loss = VAE.compute_loss)\n",
        "\n",
        "history_vae = vae.fit(\n",
        "    X_train_begign, X_train_begign,\n",
        "    epochs=10,\n",
        "    shuffle=True,\n",
        "    batch_size=256,\n",
        "    validation_data=(X_test, X_test)\n",
        ")"
      ]
    },
    {
      "cell_type": "markdown",
      "metadata": {
        "id": "pQSPdAibjWQJ"
      },
      "source": [
        "# LSTM Autoencoder"
      ]
    },
    {
      "cell_type": "code",
      "execution_count": null,
      "metadata": {
        "id": "c5TmSATvEZlF"
      },
      "outputs": [],
      "source": [
        "# REFERENCE:\n",
        "# paper with same outcome and same database:\n",
        "# https://www.sciencedirect.com/science/article/pii/S0140366421002164?casa_token=F-gYp9X_6BsAAAAA:Mb8CuXPrqJb9jmzu_ryqrfR7U4JCt-K6QBAesJCuE9MH-hODwjuSfI-TWBqLPmcQg5A_pw7Gfew"
      ]
    },
    {
      "cell_type": "code",
      "execution_count": null,
      "metadata": {
        "id": "k-clbokpKK13"
      },
      "outputs": [],
      "source": [
        "# Useful video: https://www.youtube.com/watch?app=desktop&v=H4J74KstHTE\n",
        "# LSMT:         https://www.youtube.com/watch?v=b61DPVFX03I"
      ]
    },
    {
      "cell_type": "code",
      "execution_count": null,
      "metadata": {
        "colab": {
          "base_uri": "https://localhost:8080/"
        },
        "id": "i3RHS25BgJox",
        "outputId": "7f45310f-54f3-4e59-e6e6-696b6c057e70"
      },
      "outputs": [
        {
          "name": "stdout",
          "output_type": "stream",
          "text": [
            "(1155739, 1, 24)\n",
            "(288935, 1, 24)\n"
          ]
        }
      ],
      "source": [
        "#LSTM models expect 3D input, needs reshaping of data. LSTM expects (samples, time steps, features) format.\n",
        "# X_train_benign shape =  (1155739, 1, 24)\n",
        "# X_test shape =          (288935, 1, 24) --> change time steps?\n",
        "\n",
        "X_train_benign = X_train_begign.reshape((X_train_begign.shape[0], 1, X_train_begign.shape[1]))\n",
        "X_test = X_test.reshape((X_test.shape[0], 1, X_test.shape[1]))\n",
        "\n",
        "print(X_train_benign.shape)\n",
        "print(X_test.shape)"
      ]
    },
    {
      "cell_type": "code",
      "execution_count": null,
      "metadata": {
        "colab": {
          "base_uri": "https://localhost:8080/"
        },
        "id": "nIMUisrdjYnq",
        "outputId": "ae4a80be-b311-4521-f565-13001a6f660a"
      },
      "outputs": [
        {
          "name": "stderr",
          "output_type": "stream",
          "text": [
            "/usr/local/lib/python3.11/dist-packages/keras/src/layers/rnn/rnn.py:200: UserWarning: Do not pass an `input_shape`/`input_dim` argument to a layer. When using Sequential models, prefer using an `Input(shape)` object as the first layer in the model instead.\n",
            "  super().__init__(**kwargs)\n"
          ]
        }
      ],
      "source": [
        "#LSTM Autoencoder Model\n",
        "class LSTMAutoencoder(tf.keras.Model):\n",
        "    def __init__(self, timesteps, n_features, latent_dim):\n",
        "        super(LSTMAutoencoder, self).__init__()\n",
        "\n",
        "        # Encoder\n",
        "        self.encoder = tf.keras.Sequential([\n",
        "            # First LSTM layer with Dropout\n",
        "            layers.LSTM(24, activation='relu', return_sequences=True, input_shape=(timesteps, n_features)),\n",
        "            layers.Dropout(0.2),\n",
        "            # Second LSTM layer with Dropout\n",
        "            layers.LSTM(12, activation='relu', return_sequences=False),\n",
        "            layers.Dropout(0.2),\n",
        "            # Bottleneck layer (latent space)\n",
        "            layers.Dense(latent_dim, activation='relu')\n",
        "        ])\n",
        "\n",
        "        # Decoder\n",
        "        self.decoder = tf.keras.Sequential([\n",
        "            # Repeat the bottleneck vector to match the input shape of the next layer\n",
        "            layers.RepeatVector(timesteps),\n",
        "            # LSTM layer to reconstruct the sequence\n",
        "            layers.LSTM(12, activation='relu', return_sequences=True),\n",
        "            layers.Dropout(0.2),\n",
        "            # LSTM layer to match the number of features in the output\n",
        "            layers.LSTM(24, activation='relu', return_sequences=True),\n",
        "            layers.Dropout(0.2),\n",
        "            # TimeDistributed Dense layer to reconstruct the sequence (output layer)\n",
        "            layers.TimeDistributed(layers.Dense(n_features, activation='relu'))\n",
        "        ])\n",
        "\n",
        "    def call(self, inputs):\n",
        "        # Encoder produces the latent representation\n",
        "        latent = self.encoder(inputs)\n",
        "        # Decoder reconstructs the sequence from the latent space\n",
        "        reconstructed = self.decoder(latent)\n",
        "        return reconstructed\n",
        "\n",
        "# Input dimensions\n",
        "timesteps = X_train_benign.shape[1]  # Set timesteps from your data\n",
        "n_features = X_train_benign.shape[2]  # Set features from your data\n",
        "latent_dim = 3  # Size of the bottleneck representation\n",
        "\n",
        "# Instantiate and compile the model\n",
        "lstm_autoencoder = LSTMAutoencoder(timesteps, n_features, latent_dim)\n",
        "lstm_autoencoder.compile(optimizer='adam', loss='mae')\n"
      ]
    },
    {
      "cell_type": "code",
      "execution_count": null,
      "metadata": {
        "id": "3D1vU058FW5x"
      },
      "outputs": [],
      "source": []
    },
    {
      "cell_type": "code",
      "execution_count": null,
      "metadata": {
        "colab": {
          "base_uri": "https://localhost:8080/"
        },
        "id": "-d94LjIIFTcM",
        "outputId": "c6dc02a7-26e4-46b7-974f-a415d23ae8c7"
      },
      "outputs": [
        {
          "name": "stdout",
          "output_type": "stream",
          "text": [
            "Epoch 1/10\n",
            "\u001b[1m4515/4515\u001b[0m \u001b[32m━━━━━━━━━━━━━━━━━━━━\u001b[0m\u001b[37m\u001b[0m \u001b[1m48s\u001b[0m 8ms/step - loss: 0.0123 - val_loss: 0.0254\n",
            "Epoch 2/10\n",
            "\u001b[1m4515/4515\u001b[0m \u001b[32m━━━━━━━━━━━━━━━━━━━━\u001b[0m\u001b[37m\u001b[0m \u001b[1m39s\u001b[0m 9ms/step - loss: 1.0417e-04 - val_loss: 0.0256\n",
            "Epoch 3/10\n",
            "\u001b[1m4515/4515\u001b[0m \u001b[32m━━━━━━━━━━━━━━━━━━━━\u001b[0m\u001b[37m\u001b[0m \u001b[1m39s\u001b[0m 9ms/step - loss: 1.0751e-04 - val_loss: 0.0255\n",
            "Epoch 4/10\n",
            "\u001b[1m4515/4515\u001b[0m \u001b[32m━━━━━━━━━━━━━━━━━━━━\u001b[0m\u001b[37m\u001b[0m \u001b[1m41s\u001b[0m 9ms/step - loss: 1.0976e-04 - val_loss: 0.0255\n",
            "Epoch 5/10\n",
            "\u001b[1m4515/4515\u001b[0m \u001b[32m━━━━━━━━━━━━━━━━━━━━\u001b[0m\u001b[37m\u001b[0m \u001b[1m39s\u001b[0m 8ms/step - loss: 9.9568e-05 - val_loss: 0.0255\n",
            "Epoch 6/10\n",
            "\u001b[1m4515/4515\u001b[0m \u001b[32m━━━━━━━━━━━━━━━━━━━━\u001b[0m\u001b[37m\u001b[0m \u001b[1m43s\u001b[0m 10ms/step - loss: 9.6596e-05 - val_loss: 0.0255\n",
            "Epoch 7/10\n",
            "\u001b[1m4515/4515\u001b[0m \u001b[32m━━━━━━━━━━━━━━━━━━━━\u001b[0m\u001b[37m\u001b[0m \u001b[1m76s\u001b[0m 8ms/step - loss: 1.0326e-04 - val_loss: 0.0255\n",
            "Epoch 8/10\n",
            "\u001b[1m4515/4515\u001b[0m \u001b[32m━━━━━━━━━━━━━━━━━━━━\u001b[0m\u001b[37m\u001b[0m \u001b[1m40s\u001b[0m 8ms/step - loss: 7.8173e-05 - val_loss: 0.0254\n",
            "Epoch 9/10\n",
            "\u001b[1m4515/4515\u001b[0m \u001b[32m━━━━━━━━━━━━━━━━━━━━\u001b[0m\u001b[37m\u001b[0m \u001b[1m43s\u001b[0m 9ms/step - loss: 7.5313e-05 - val_loss: 0.0254\n",
            "Epoch 10/10\n",
            "\u001b[1m4515/4515\u001b[0m \u001b[32m━━━━━━━━━━━━━━━━━━━━\u001b[0m\u001b[37m\u001b[0m \u001b[1m40s\u001b[0m 8ms/step - loss: 8.6319e-05 - val_loss: 0.0254\n"
          ]
        }
      ],
      "source": [
        "#Training LSTM Model\n",
        "history_lstm = lstm_autoencoder.fit(\n",
        "    X_train_benign, X_train_benign,\n",
        "    epochs=10,\n",
        "    batch_size=256,\n",
        "    validation_data=(X_test, X_test),\n",
        "    shuffle=True\n",
        ")"
      ]
    },
    {
      "cell_type": "markdown",
      "metadata": {
        "id": "YRPdIQ1gDyCV"
      },
      "source": [
        "# LSTM Autoencoder Early stopping"
      ]
    },
    {
      "cell_type": "code",
      "execution_count": null,
      "metadata": {
        "id": "CRgBRzJeD0px"
      },
      "outputs": [],
      "source": [
        "class LSTMAutoencoder:\n",
        "    def __init__(self, input_dim=24, timesteps=1, latent_dim=8):\n",
        "        self.input_dim = input_dim\n",
        "        self.timesteps = timesteps\n",
        "        self.latent_dim = latent_dim\n",
        "        self.model = None\n",
        "        self.threshold = None\n",
        "        self.history = None\n",
        "\n",
        "    def build_model(self):\n",
        "        # Define input layer: timesteps, input_dim = 24\n",
        "        inputs = Input(shape=(self.timesteps, self.input_dim))\n",
        "\n",
        "        # Encoder\n",
        "        encoded = LSTM(16, activation='relu', return_sequences=True)(inputs)\n",
        "        encoded = LSTM(self.latent_dim, activation='relu')(encoded)\n",
        "\n",
        "        # Latent space representation\n",
        "\n",
        "        # Decoder\n",
        "        decoded = RepeatVector(self.timesteps)(encoded)\n",
        "        decoded = LSTM(self.latent_dim, activation='relu', return_sequences=True)(decoded)\n",
        "        decoded = LSTM(16, activation='relu', return_sequences=True)(decoded)\n",
        "\n",
        "        # Output layer\n",
        "        outputs = TimeDistributed(Dense(self.input_dim))(decoded)\n",
        "\n",
        "        # Create the autoencoder model\n",
        "        self.model = Model(inputs, outputs)\n",
        "        self.model.compile(optimizer='adam', loss='mse')\n",
        "\n",
        "        print(self.model.summary())\n",
        "        return self.model\n",
        "\n",
        "    def train(self, X_train, validation_data=None, epochs=10, batch_size=256):\n",
        "        \"\"\"\n",
        "        Train the LSTM autoencoder model\n",
        "\n",
        "        Args:\n",
        "            X_train: Training data (shape: [samples, timesteps, features])\n",
        "            validation_data: Validation data (tuple of X_val, X_val)\n",
        "            epochs: Number of training epochs\n",
        "            batch_size: Batch size for training\n",
        "\n",
        "        Returns:\n",
        "            Training history\n",
        "        \"\"\"\n",
        "        if self.model is None:\n",
        "            self.build_model()\n",
        "\n",
        "        callbacks = [\n",
        "            EarlyStopping(monitor='val_loss', patience=3, restore_best_weights=True),\n",
        "            ModelCheckpoint('lstm_autoencoder.h5', monitor='val_loss', save_best_only=True)\n",
        "        ]\n",
        "\n",
        "        # Reshape input data if needed\n",
        "        if len(X_train.shape) == 2:\n",
        "            X_train = X_train.reshape(X_train.shape[0], self.timesteps, self.input_dim)\n",
        "\n",
        "        # Train the model\n",
        "        self.history = self.model.fit(\n",
        "            X_train, X_train,  # Autoencoder input = output\n",
        "            epochs=epochs,\n",
        "            batch_size=batch_size,\n",
        "            validation_data=validation_data if validation_data else (X_train, X_train),\n",
        "            callbacks=callbacks,\n",
        "            verbose=1\n",
        "        )\n",
        "\n",
        "        return self.history\n",
        "\n",
        "    def compute_reconstruction_errors(self, data):\n",
        "        \"\"\"\n",
        "        Compute reconstruction errors for the given data\n",
        "\n",
        "        Args:\n",
        "            data: Input data (shape: [samples, timesteps, features])\n",
        "\n",
        "        Returns:\n",
        "            Reconstruction errors for each sample\n",
        "        \"\"\"\n",
        "        # Reshape input data if needed\n",
        "        if len(data.shape) == 2:\n",
        "            data = data.reshape(data.shape[0], self.timesteps, self.input_dim)\n",
        "\n",
        "        # Get reconstructions\n",
        "        reconstructions = self.model.predict(data)\n",
        "\n",
        "        # Compute MSE for each sample\n",
        "        mse = np.mean(np.power(data - reconstructions, 2), axis=(1, 2))\n",
        "\n",
        "        return mse\n",
        "\n",
        "    def set_threshold(self, X_train, contamination=0.01):\n",
        "        \"\"\"\n",
        "        Set the anomaly threshold based on the training data\n",
        "\n",
        "        Args:\n",
        "            X_train: Training data\n",
        "            contamination: Expected ratio of anomalies\n",
        "\n",
        "        Returns:\n",
        "            Threshold value\n",
        "        \"\"\"\n",
        "        reconstruction_errors = self.compute_reconstruction_errors(X_train)\n",
        "        self.threshold = np.percentile(reconstruction_errors, 100 * (1 - contamination))\n",
        "        return self.threshold\n",
        "\n",
        "    def predict(self, X_test, threshold=None):\n",
        "        \"\"\"\n",
        "        Predict anomalies in the test data\n",
        "\n",
        "        Args:\n",
        "            X_test: Test data\n",
        "            threshold: Anomaly threshold (if None, use the previously set threshold)\n",
        "\n",
        "        Returns:\n",
        "            Binary predictions (1 for anomaly, 0 for normal)\n",
        "        \"\"\"\n",
        "        if threshold is not None:\n",
        "            self.threshold = threshold\n",
        "\n",
        "        if self.threshold is None:\n",
        "            raise ValueError(\"Threshold not set. Call set_threshold() first or provide a threshold value.\")\n",
        "\n",
        "        reconstruction_errors = self.compute_reconstruction_errors(X_test)\n",
        "        y_pred = (reconstruction_errors > self.threshold).astype(int)\n",
        "\n",
        "        return y_pred\n",
        "\n",
        "    def evaluate(self, X_test, y_true):\n",
        "        \"\"\"\n",
        "        Evaluate the model performance\n",
        "\n",
        "        Args:\n",
        "            X_test: Test data\n",
        "            y_true: True labels (1 for anomaly, 0 for normal)\n",
        "\n",
        "        Returns:\n",
        "            Dictionary with performance metrics\n",
        "        \"\"\"\n",
        "        y_pred = self.predict(X_test)\n",
        "\n",
        "        metrics = {\n",
        "            'accuracy': accuracy_score(y_true, y_pred),\n",
        "            'recall': recall_score(y_true, y_pred),\n",
        "            'precision': precision_score(y_true, y_pred),\n",
        "            'f1': f1_score(y_true, y_pred)\n",
        "        }\n",
        "\n",
        "        print(f\"Accuracy: {metrics['accuracy']:.4f}\")\n",
        "        print(f\"Recall: {metrics['recall']:.4f}\")\n",
        "        print(f\"Precision: {metrics['precision']:.4f}\")\n",
        "        print(f\"F1-Score: {metrics['f1']:.4f}\")\n",
        "\n",
        "        return metrics\n",
        "\n",
        "    def plot_history(self):\n",
        "        \"\"\"Plot training history\"\"\"\n",
        "        if self.history is None:\n",
        "            print(\"No training history available.\")\n",
        "            return\n",
        "\n",
        "        plt.figure(figsize=(10, 4))\n",
        "        plt.plot(self.history.history['loss'], label='Training Loss')\n",
        "        if 'val_loss' in self.history.history:\n",
        "            plt.plot(self.history.history['val_loss'], label='Validation Loss')\n",
        "        plt.title('Model Loss')\n",
        "        plt.ylabel('Loss')\n",
        "        plt.xlabel('Epoch')\n",
        "        plt.legend()\n",
        "        plt.show()\n",
        "\n",
        "    def plot_reconstruction_errors(self, X_test, y_true=None):\n",
        "        \"\"\"Plot reconstruction errors with threshold\"\"\"\n",
        "        errors = self.compute_reconstruction_errors(X_test)\n",
        "\n",
        "        plt.figure(figsize=(10, 6))\n",
        "        if y_true is not None:\n",
        "            plt.scatter(range(len(errors)), errors, c=y_true, cmap='coolwarm', alpha=0.7)\n",
        "            plt.colorbar(label='True Class')\n",
        "        else:\n",
        "            plt.scatter(range(len(errors)), errors, alpha=0.7)\n",
        "\n",
        "        if self.threshold is not None:\n",
        "            plt.axhline(y=self.threshold, color='r', linestyle='-', label=f'Threshold: {self.threshold:.4f}')\n",
        "            plt.legend()\n",
        "\n",
        "        plt.title('Reconstruction Errors')\n",
        "        plt.ylabel('Reconstruction Error')\n",
        "        plt.xlabel('Sample Index')\n",
        "        plt.show()"
      ]
    },
    {
      "cell_type": "code",
      "execution_count": null,
      "metadata": {
        "colab": {
          "base_uri": "https://localhost:8080/",
          "height": 749
        },
        "id": "hXFkprK0EAkR",
        "outputId": "84d68461-40c2-4120-a4f0-8817800ecba4"
      },
      "outputs": [
        {
          "data": {
            "text/html": [
              "<pre style=\"white-space:pre;overflow-x:auto;line-height:normal;font-family:Menlo,'DejaVu Sans Mono',consolas,'Courier New',monospace\"><span style=\"font-weight: bold\">Model: \"functional_16\"</span>\n",
              "</pre>\n"
            ],
            "text/plain": [
              "\u001b[1mModel: \"functional_16\"\u001b[0m\n"
            ]
          },
          "metadata": {},
          "output_type": "display_data"
        },
        {
          "data": {
            "text/html": [
              "<pre style=\"white-space:pre;overflow-x:auto;line-height:normal;font-family:Menlo,'DejaVu Sans Mono',consolas,'Courier New',monospace\">┏━━━━━━━━━━━━━━━━━━━━━━━━━━━━━━━━━━━━━━┳━━━━━━━━━━━━━━━━━━━━━━━━━━━━━┳━━━━━━━━━━━━━━━━━┓\n",
              "┃<span style=\"font-weight: bold\"> Layer (type)                         </span>┃<span style=\"font-weight: bold\"> Output Shape                </span>┃<span style=\"font-weight: bold\">         Param # </span>┃\n",
              "┡━━━━━━━━━━━━━━━━━━━━━━━━━━━━━━━━━━━━━━╇━━━━━━━━━━━━━━━━━━━━━━━━━━━━━╇━━━━━━━━━━━━━━━━━┩\n",
              "│ input_layer_16 (<span style=\"color: #0087ff; text-decoration-color: #0087ff\">InputLayer</span>)          │ (<span style=\"color: #00d7ff; text-decoration-color: #00d7ff\">None</span>, <span style=\"color: #00af00; text-decoration-color: #00af00\">1</span>, <span style=\"color: #00af00; text-decoration-color: #00af00\">24</span>)               │               <span style=\"color: #00af00; text-decoration-color: #00af00\">0</span> │\n",
              "├──────────────────────────────────────┼─────────────────────────────┼─────────────────┤\n",
              "│ lstm_12 (<span style=\"color: #0087ff; text-decoration-color: #0087ff\">LSTM</span>)                       │ (<span style=\"color: #00d7ff; text-decoration-color: #00d7ff\">None</span>, <span style=\"color: #00af00; text-decoration-color: #00af00\">1</span>, <span style=\"color: #00af00; text-decoration-color: #00af00\">16</span>)               │           <span style=\"color: #00af00; text-decoration-color: #00af00\">2,624</span> │\n",
              "├──────────────────────────────────────┼─────────────────────────────┼─────────────────┤\n",
              "│ lstm_13 (<span style=\"color: #0087ff; text-decoration-color: #0087ff\">LSTM</span>)                       │ (<span style=\"color: #00d7ff; text-decoration-color: #00d7ff\">None</span>, <span style=\"color: #00af00; text-decoration-color: #00af00\">8</span>)                   │             <span style=\"color: #00af00; text-decoration-color: #00af00\">800</span> │\n",
              "├──────────────────────────────────────┼─────────────────────────────┼─────────────────┤\n",
              "│ repeat_vector_3 (<span style=\"color: #0087ff; text-decoration-color: #0087ff\">RepeatVector</span>)       │ (<span style=\"color: #00d7ff; text-decoration-color: #00d7ff\">None</span>, <span style=\"color: #00af00; text-decoration-color: #00af00\">1</span>, <span style=\"color: #00af00; text-decoration-color: #00af00\">8</span>)                │               <span style=\"color: #00af00; text-decoration-color: #00af00\">0</span> │\n",
              "├──────────────────────────────────────┼─────────────────────────────┼─────────────────┤\n",
              "│ lstm_14 (<span style=\"color: #0087ff; text-decoration-color: #0087ff\">LSTM</span>)                       │ (<span style=\"color: #00d7ff; text-decoration-color: #00d7ff\">None</span>, <span style=\"color: #00af00; text-decoration-color: #00af00\">1</span>, <span style=\"color: #00af00; text-decoration-color: #00af00\">8</span>)                │             <span style=\"color: #00af00; text-decoration-color: #00af00\">544</span> │\n",
              "├──────────────────────────────────────┼─────────────────────────────┼─────────────────┤\n",
              "│ lstm_15 (<span style=\"color: #0087ff; text-decoration-color: #0087ff\">LSTM</span>)                       │ (<span style=\"color: #00d7ff; text-decoration-color: #00d7ff\">None</span>, <span style=\"color: #00af00; text-decoration-color: #00af00\">1</span>, <span style=\"color: #00af00; text-decoration-color: #00af00\">16</span>)               │           <span style=\"color: #00af00; text-decoration-color: #00af00\">1,600</span> │\n",
              "├──────────────────────────────────────┼─────────────────────────────┼─────────────────┤\n",
              "│ time_distributed_3 (<span style=\"color: #0087ff; text-decoration-color: #0087ff\">TimeDistributed</span>) │ (<span style=\"color: #00d7ff; text-decoration-color: #00d7ff\">None</span>, <span style=\"color: #00af00; text-decoration-color: #00af00\">1</span>, <span style=\"color: #00af00; text-decoration-color: #00af00\">24</span>)               │             <span style=\"color: #00af00; text-decoration-color: #00af00\">408</span> │\n",
              "└──────────────────────────────────────┴─────────────────────────────┴─────────────────┘\n",
              "</pre>\n"
            ],
            "text/plain": [
              "┏━━━━━━━━━━━━━━━━━━━━━━━━━━━━━━━━━━━━━━┳━━━━━━━━━━━━━━━━━━━━━━━━━━━━━┳━━━━━━━━━━━━━━━━━┓\n",
              "┃\u001b[1m \u001b[0m\u001b[1mLayer (type)                        \u001b[0m\u001b[1m \u001b[0m┃\u001b[1m \u001b[0m\u001b[1mOutput Shape               \u001b[0m\u001b[1m \u001b[0m┃\u001b[1m \u001b[0m\u001b[1m        Param #\u001b[0m\u001b[1m \u001b[0m┃\n",
              "┡━━━━━━━━━━━━━━━━━━━━━━━━━━━━━━━━━━━━━━╇━━━━━━━━━━━━━━━━━━━━━━━━━━━━━╇━━━━━━━━━━━━━━━━━┩\n",
              "│ input_layer_16 (\u001b[38;5;33mInputLayer\u001b[0m)          │ (\u001b[38;5;45mNone\u001b[0m, \u001b[38;5;34m1\u001b[0m, \u001b[38;5;34m24\u001b[0m)               │               \u001b[38;5;34m0\u001b[0m │\n",
              "├──────────────────────────────────────┼─────────────────────────────┼─────────────────┤\n",
              "│ lstm_12 (\u001b[38;5;33mLSTM\u001b[0m)                       │ (\u001b[38;5;45mNone\u001b[0m, \u001b[38;5;34m1\u001b[0m, \u001b[38;5;34m16\u001b[0m)               │           \u001b[38;5;34m2,624\u001b[0m │\n",
              "├──────────────────────────────────────┼─────────────────────────────┼─────────────────┤\n",
              "│ lstm_13 (\u001b[38;5;33mLSTM\u001b[0m)                       │ (\u001b[38;5;45mNone\u001b[0m, \u001b[38;5;34m8\u001b[0m)                   │             \u001b[38;5;34m800\u001b[0m │\n",
              "├──────────────────────────────────────┼─────────────────────────────┼─────────────────┤\n",
              "│ repeat_vector_3 (\u001b[38;5;33mRepeatVector\u001b[0m)       │ (\u001b[38;5;45mNone\u001b[0m, \u001b[38;5;34m1\u001b[0m, \u001b[38;5;34m8\u001b[0m)                │               \u001b[38;5;34m0\u001b[0m │\n",
              "├──────────────────────────────────────┼─────────────────────────────┼─────────────────┤\n",
              "│ lstm_14 (\u001b[38;5;33mLSTM\u001b[0m)                       │ (\u001b[38;5;45mNone\u001b[0m, \u001b[38;5;34m1\u001b[0m, \u001b[38;5;34m8\u001b[0m)                │             \u001b[38;5;34m544\u001b[0m │\n",
              "├──────────────────────────────────────┼─────────────────────────────┼─────────────────┤\n",
              "│ lstm_15 (\u001b[38;5;33mLSTM\u001b[0m)                       │ (\u001b[38;5;45mNone\u001b[0m, \u001b[38;5;34m1\u001b[0m, \u001b[38;5;34m16\u001b[0m)               │           \u001b[38;5;34m1,600\u001b[0m │\n",
              "├──────────────────────────────────────┼─────────────────────────────┼─────────────────┤\n",
              "│ time_distributed_3 (\u001b[38;5;33mTimeDistributed\u001b[0m) │ (\u001b[38;5;45mNone\u001b[0m, \u001b[38;5;34m1\u001b[0m, \u001b[38;5;34m24\u001b[0m)               │             \u001b[38;5;34m408\u001b[0m │\n",
              "└──────────────────────────────────────┴─────────────────────────────┴─────────────────┘\n"
            ]
          },
          "metadata": {},
          "output_type": "display_data"
        },
        {
          "data": {
            "text/html": [
              "<pre style=\"white-space:pre;overflow-x:auto;line-height:normal;font-family:Menlo,'DejaVu Sans Mono',consolas,'Courier New',monospace\"><span style=\"font-weight: bold\"> Total params: </span><span style=\"color: #00af00; text-decoration-color: #00af00\">5,976</span> (23.34 KB)\n",
              "</pre>\n"
            ],
            "text/plain": [
              "\u001b[1m Total params: \u001b[0m\u001b[38;5;34m5,976\u001b[0m (23.34 KB)\n"
            ]
          },
          "metadata": {},
          "output_type": "display_data"
        },
        {
          "data": {
            "text/html": [
              "<pre style=\"white-space:pre;overflow-x:auto;line-height:normal;font-family:Menlo,'DejaVu Sans Mono',consolas,'Courier New',monospace\"><span style=\"font-weight: bold\"> Trainable params: </span><span style=\"color: #00af00; text-decoration-color: #00af00\">5,976</span> (23.34 KB)\n",
              "</pre>\n"
            ],
            "text/plain": [
              "\u001b[1m Trainable params: \u001b[0m\u001b[38;5;34m5,976\u001b[0m (23.34 KB)\n"
            ]
          },
          "metadata": {},
          "output_type": "display_data"
        },
        {
          "data": {
            "text/html": [
              "<pre style=\"white-space:pre;overflow-x:auto;line-height:normal;font-family:Menlo,'DejaVu Sans Mono',consolas,'Courier New',monospace\"><span style=\"font-weight: bold\"> Non-trainable params: </span><span style=\"color: #00af00; text-decoration-color: #00af00\">0</span> (0.00 B)\n",
              "</pre>\n"
            ],
            "text/plain": [
              "\u001b[1m Non-trainable params: \u001b[0m\u001b[38;5;34m0\u001b[0m (0.00 B)\n"
            ]
          },
          "metadata": {},
          "output_type": "display_data"
        },
        {
          "name": "stdout",
          "output_type": "stream",
          "text": [
            "None\n",
            "Epoch 1/10\n",
            "\u001b[1m4515/4515\u001b[0m \u001b[32m━━━━━━━━━━━━━━━━━━━━\u001b[0m\u001b[37m\u001b[0m \u001b[1m0s\u001b[0m 7ms/step - loss: 0.0091"
          ]
        },
        {
          "name": "stderr",
          "output_type": "stream",
          "text": [
            "WARNING:absl:You are saving your model as an HDF5 file via `model.save()` or `keras.saving.save_model(model)`. This file format is considered legacy. We recommend using instead the native Keras format, e.g. `model.save('my_model.keras')` or `keras.saving.save_model(model, 'my_model.keras')`. \n"
          ]
        },
        {
          "name": "stdout",
          "output_type": "stream",
          "text": [
            "\b\b\b\b\b\b\b\b\b\b\b\b\b\b\b\b\b\b\b\b\b\b\b\b\b\b\b\b\b\b\b\b\b\b\b\b\b\b\b\b\b\b\b\b\b\b\b\b\b\b\b\b\b\b\b\b\b\r\u001b[1m4515/4515\u001b[0m \u001b[32m━━━━━━━━━━━━━━━━━━━━\u001b[0m\u001b[37m\u001b[0m \u001b[1m96s\u001b[0m 12ms/step - loss: 0.0091 - val_loss: 1.0708e-11\n",
            "Epoch 2/10\n",
            "\u001b[1m4515/4515\u001b[0m \u001b[32m━━━━━━━━━━━━━━━━━━━━\u001b[0m\u001b[37m\u001b[0m \u001b[1m83s\u001b[0m 12ms/step - loss: 1.2784e-08 - val_loss: 1.0795e-10\n",
            "Epoch 3/10\n",
            "\u001b[1m4515/4515\u001b[0m \u001b[32m━━━━━━━━━━━━━━━━━━━━\u001b[0m\u001b[37m\u001b[0m \u001b[1m83s\u001b[0m 12ms/step - loss: 5.2499e-08 - val_loss: 1.0824e-09\n",
            "Epoch 4/10\n",
            "\u001b[1m4515/4515\u001b[0m \u001b[32m━━━━━━━━━━━━━━━━━━━━\u001b[0m\u001b[37m\u001b[0m \u001b[1m52s\u001b[0m 12ms/step - loss: 5.2710e-08 - val_loss: 4.3381e-09\n",
            "\u001b[1m36117/36117\u001b[0m \u001b[32m━━━━━━━━━━━━━━━━━━━━\u001b[0m\u001b[37m\u001b[0m \u001b[1m78s\u001b[0m 2ms/step\n",
            "\u001b[1m9030/9030\u001b[0m \u001b[32m━━━━━━━━━━━━━━━━━━━━\u001b[0m\u001b[37m\u001b[0m \u001b[1m18s\u001b[0m 2ms/step\n",
            "\u001b[1m9030/9030\u001b[0m \u001b[32m━━━━━━━━━━━━━━━━━━━━\u001b[0m\u001b[37m\u001b[0m \u001b[1m19s\u001b[0m 2ms/step\n",
            "Accuracy: 0.3030\n",
            "Recall: 0.2532\n",
            "Precision: 0.8076\n",
            "F1-Score: 0.3855\n"
          ]
        },
        {
          "data": {
            "image/png": "[encoded data removed]",
            "text/plain": [
              "<Figure size 1000x400 with 1 Axes>"
            ]
          },
          "metadata": {},
          "output_type": "display_data"
        },
        {
          "name": "stdout",
          "output_type": "stream",
          "text": [
            "\u001b[1m9030/9030\u001b[0m \u001b[32m━━━━━━━━━━━━━━━━━━━━\u001b[0m\u001b[37m\u001b[0m \u001b[1m19s\u001b[0m 2ms/step\n"
          ]
        },
        {
          "data": {
            "image/png": "[encoded data removed]",
            "text/plain": [
              "<Figure size 1000x600 with 2 Axes>"
            ]
          },
          "metadata": {},
          "output_type": "display_data"
        }
      ],
      "source": [
        "# Initialize and train the model\n",
        "autoencoder_LSMT = LSTMAutoencoder(input_dim=24, timesteps=1, latent_dim=8)\n",
        "autoencoder_LSMT.build_model()\n",
        "autoencoder_LSMT.train(X_train_begign, epochs=10, batch_size=256)\n",
        "\n",
        "# Set threshold and make predictions\n",
        "autoencoder_LSMT.set_threshold(X_train_begign, contamination=0.05)\n",
        "y_pred = autoencoder_LSMT.predict(X_test)\n",
        "\n",
        "# Evaluate model performance\n",
        "metrics = autoencoder_LSMT.evaluate(X_test, y_test)\n",
        "\n",
        "# Visualize results\n",
        "autoencoder_LSMT.plot_history()\n",
        "autoencoder_LSMT.plot_reconstruction_errors(X_test, y_test)"
      ]
    },
    {
      "cell_type": "markdown",
      "metadata": {
        "id": "BhQvGCYDrwDy"
      },
      "source": [
        "\n",
        "# GAN: Generative Adversial Autoencoders"
      ]
    },
    {
      "cell_type": "code",
      "execution_count": null,
      "metadata": {
        "id": "tQ4JPyEbxm5q"
      },
      "outputs": [],
      "source": [
        "# Also GAN are useful for anomaly detection. To find out more: https://arxiv.org/pdf/1906.11632\n",
        "# Tensorflow GUIDE IMPLEMENTATION: https://www.tensorflow.org/tutorials/generative/dcgan\n",
        "\n",
        "# Some usuful blogs:\n",
        "# https://medium.com/data-reply-it-datatech/detecting-the-unseen-anomaly-detection-with-gans-8b20f3056a11"
      ]
    },
    {
      "cell_type": "code",
      "execution_count": null,
      "metadata": {
        "colab": {
          "base_uri": "https://localhost:8080/"
        },
        "id": "2IjzCgY-6VGv",
        "outputId": "8b542b29-f9fa-42d9-811f-8ffdd063e524"
      },
      "outputs": [
        {
          "name": "stdout",
          "output_type": "stream",
          "text": [
            "(1155739, 3)\n"
          ]
        }
      ],
      "source": [
        "#Create latent space\n",
        "class Encoder(tf.keras.Model):\n",
        "    def __init__(self, latent_dim=3):\n",
        "        super(Encoder, self).__init__()\n",
        "\n",
        "        # Fully connected layers\n",
        "        self.fc1 = layers.Dense(24, activation='relu')\n",
        "        self.fc2 = layers.Dense(12, activation='relu')\n",
        "        self.fc3 = layers.Dense(12, activation='relu')\n",
        "        self.fc4 = layers.Dense(latent_dim)\n",
        "\n",
        "    def call(self, inputs):\n",
        "        x = self.fc1(inputs)\n",
        "        x = self.fc2(x)\n",
        "        x = self.fc3(x)\n",
        "        z = self.fc4(x)\n",
        "        return z\n",
        "\n",
        "encoder = Encoder(latent_dim=3)\n",
        "\n",
        "latent_vectors = encoder(X_train_begign)\n",
        "\n",
        "print(latent_vectors.shape) #It should be <all data, latent_dim>"
      ]
    },
    {
      "cell_type": "code",
      "execution_count": null,
      "metadata": {
        "id": "Caok-0Sbr_8d"
      },
      "outputs": [],
      "source": [
        "class Generator(tf.keras.Model):\n",
        "    # create a generator that starting from z recreates the 24 feature vector\n",
        "    # We took a small reduction vector dim=3 as done in other implementations and\n",
        "    # increment to 24 features\n",
        "    def __init__(self, z_dim=3, input_dim=24):\n",
        "        super(Generator, self).__init__()\n",
        "        self.fc1 = layers.Dense(3, activation='relu')\n",
        "        self.fc2 = layers.Dense(6, activation='relu')\n",
        "        self.fc3 = layers.Dense(12, activation='relu')\n",
        "        #why tanh this time? we've seen a paper comperison of activation function,\n",
        "        #in this case it seems the best one: https://arxiv.org/pdf/2109.14545\n",
        "        self.fc4 = layers.Dense(24, activation='relu')\n",
        "\n",
        "    def call(self, z):\n",
        "        x = self.fc1(z)\n",
        "        x = self.fc2(x)\n",
        "        x = self.fc3(x)\n",
        "        x = self.fc4(x)\n",
        "        return x"
      ]
    },
    {
      "cell_type": "code",
      "execution_count": null,
      "metadata": {
        "id": "CErobYRGu9p3"
      },
      "outputs": [],
      "source": [
        "class Discriminator(tf.keras.Model):\n",
        "    def __init__(self, z_dim=3, input_dim=24):\n",
        "        super(Discriminator, self).__init__()\n",
        "\n",
        "        # Discriminator NN\n",
        "        self.dense1 = layers.Dense(24, activation='relu', input_dim=24)\n",
        "        self.dense2 = layers.Dense(12, activation='relu')\n",
        "        self.dense3 = layers.Dense(6, activation='relu')\n",
        "        self.dense4 = layers.Dense(3, activation='relu')\n",
        "        # Last layes is a probablity outcome, so we use a sigmoid as activation\n",
        "        # function: https://en.wikipedia.org/wiki/Sigmoid_function\n",
        "        self.output_layer = layers.Dense(1, activation='sigmoid')\n",
        "\n",
        "    def call(self, inputs):\n",
        "        x = self.dense1(inputs)\n",
        "        x = self.dense2(x)\n",
        "        x = self.dense3(x)\n",
        "        x = self.dense4(x)\n",
        "        return self.output_layer(x)"
      ]
    },
    {
      "cell_type": "code",
      "execution_count": null,
      "metadata": {
        "id": "_eiyWZ_HDdz0"
      },
      "outputs": [],
      "source": [
        "# This function simply generate random points given a tensor.shape\n",
        "def generate_latent_points(latent_dim, batch_size):\n",
        "    return np.random.normal(0, 1, size=(batch_size, latent_dim))"
      ]
    },
    {
      "cell_type": "code",
      "execution_count": null,
      "metadata": {
        "id": "rvlN2ugFvK6S"
      },
      "outputs": [],
      "source": [
        "class GAN(tf.keras.Model):\n",
        "    def __init__(self, z_dim=3, input_dim=24):\n",
        "        super(GAN, self).__init__()\n",
        "        # Generator:\n",
        "        # z_dim = latent space(3)\n",
        "        # input_dim = feature vector(24)\n",
        "        self.generator = Generator(z_dim, input_dim)\n",
        "        # Discriminator\n",
        "        # input_dim = feature vector(24 - output: 1\n",
        "        self.discriminator = Discriminator(input_dim)\n",
        "\n",
        "    # This is an advanced NN composed of other NN\n",
        "    # So we have to choose different type of optimizer:\n",
        "    # one for generator\n",
        "    # one for discriminator\n",
        "    # The loss function is unique\n",
        "    def compile(self, generator_optimizer, discriminator_optimizer, loss_fn):\n",
        "        super(GAN, self).compile()\n",
        "        self.generator_optimizer = generator_optimizer\n",
        "        self.discriminator_optimizer = discriminator_optimizer\n",
        "        self.loss_fn = loss_fn\n",
        "\n",
        "    # Call function--> data flow in our NN\n",
        "    # Generator --> feature vector of 24 ---> Discriminator --> (0,1) probability\n",
        "    def call(self, inputs):\n",
        "        x = self.generator(inputs)\n",
        "        return self.discriminator(x)\n",
        "\n",
        "    #https://www.tensorflow.org/guide/keras/customizing_what_happens_in_fit\n",
        "    def train_step(self, data):\n",
        "        # Create rumor from real data: https://www.tensorflow.org/api_docs/python/tf/random/normal\n",
        "        # Function to generate random noise for the generator\n",
        "        noise = generate_latent_points(latent_dim=3, batch_size=256)\n",
        "        # Generates data calling self.generator(z)\n",
        "        generated_data = self.generator(noise)\n",
        "\n",
        "        x, _ = data\n",
        "        # Discriminator training. The training is done on real_data.\n",
        "        # TODO: generator schould start on FakeData maybe!!!\n",
        "        with tf.GradientTape() as disc_tape:\n",
        "            # Real data outcome\n",
        "            real_output = self.discriminator(x)\n",
        "            # Fake data outcome\n",
        "            fake_output = self.discriminator(generated_data)\n",
        "\n",
        "            # loss function of generator: https://medium.com/data-science/understanding-binary-cross-entropy-log-loss-a-visual-explanation-a3ac6025181a\n",
        "            # tf.ones_like = creates a tensor of all ones that has the same shape as the input https://www.tensorflow.org/api_docs/python/tf/ones_like\n",
        "            # tf.zeros_like = creates a tensor of all zeros that has the same shape as the input https://www.tensorflow.org/api_docs/python/tf/zeros_like\n",
        "            disc_loss = self.loss_fn(tf.ones_like(real_output), real_output) + \\\n",
        "                        self.loss_fn(tf.zeros_like(fake_output), fake_output)\n",
        "\n",
        "        # Perform gradient discent for discriminator\n",
        "        grads_disc = disc_tape.gradient(disc_loss, self.discriminator.trainable_variables)\n",
        "        self.discriminator_optimizer.apply_gradients(zip(grads_disc, self.discriminator.trainable_variables))\n",
        "\n",
        "        # Generator Training\n",
        "        with tf.GradientTape() as gen_tape:\n",
        "            # outcome of generator data --> Why repeate generated_data\n",
        "            generated_data = self.generator(noise)\n",
        "            # result of discriminator in fake data\n",
        "            fake_output = self.discriminator(generated_data)\n",
        "\n",
        "            # The idea of this loss function is this one:\n",
        "            # The Generator should trick the discriminator, by assign all ones(real data)\n",
        "            gen_loss = self.loss_fn(tf.ones_like(fake_output), fake_output)\n",
        "\n",
        "        # Perform gradient descent\n",
        "        grads_gen = gen_tape.gradient(gen_loss, self.generator.trainable_variables)\n",
        "        self.generator_optimizer.apply_gradients(zip(grads_gen, self.generator.trainable_variables))\n",
        "\n",
        "        return {'gen_loss': gen_loss, 'disc_loss': disc_loss}"
      ]
    },
    {
      "cell_type": "code",
      "execution_count": null,
      "metadata": {
        "colab": {
          "base_uri": "https://localhost:8080/"
        },
        "id": "TXAYk99l1Zik",
        "outputId": "936d2b75-9323-4d08-9955-0070578902b8"
      },
      "outputs": [
        {
          "name": "stderr",
          "output_type": "stream",
          "text": [
            "/usr/local/lib/python3.11/dist-packages/keras/src/layers/core/dense.py:87: UserWarning: Do not pass an `input_shape`/`input_dim` argument to a layer. When using Sequential models, prefer using an `Input(shape)` object as the first layer in the model instead.\n",
            "  super().__init__(activity_regularizer=activity_regularizer, **kwargs)\n"
          ]
        }
      ],
      "source": [
        "#Latent space\n",
        "z_dim = 3\n",
        "# Feature vector\n",
        "input_dim = 24\n",
        "#Create our model\n",
        "gan = GAN(z_dim, input_dim)\n",
        "\n",
        "# Compile\n",
        "# We have chosen Adam for both generator and discriminator.\n",
        "# https://www.tensorflow.org/api_docs/python/tf/keras/optimizers/Adam\n",
        "\n",
        "# Why have you use beta_1? TO BE DONE\n",
        "gan.compile(\n",
        "    generator_optimizer=tf.keras.optimizers.Adam(),\n",
        "    discriminator_optimizer=tf.keras.optimizers.Adam(),\n",
        "    loss_fn=tf.keras.losses.BinaryCrossentropy()\n",
        ")"
      ]
    },
    {
      "cell_type": "code",
      "execution_count": null,
      "metadata": {
        "colab": {
          "base_uri": "https://localhost:8080/",
          "height": 586
        },
        "id": "3DRKhChYwAOC",
        "outputId": "15d7bb4c-6f73-4801-a0f6-b3bf1b87dba3"
      },
      "outputs": [
        {
          "name": "stdout",
          "output_type": "stream",
          "text": [
            "Epoch 1/10\n",
            "\u001b[1m4515/4515\u001b[0m \u001b[32m━━━━━━━━━━━━━━━━━━━━\u001b[0m\u001b[37m\u001b[0m \u001b[1m21s\u001b[0m 4ms/step - disc_loss: 1.3342 - gen_loss: 0.7817\n",
            "Epoch 2/10\n",
            "\u001b[1m4515/4515\u001b[0m \u001b[32m━━━━━━━━━━━━━━━━━━━━\u001b[0m\u001b[37m\u001b[0m \u001b[1m20s\u001b[0m 4ms/step - disc_loss: 1.3801 - gen_loss: 0.7064\n",
            "Epoch 3/10\n",
            "\u001b[1m4515/4515\u001b[0m \u001b[32m━━━━━━━━━━━━━━━━━━━━\u001b[0m\u001b[37m\u001b[0m \u001b[1m19s\u001b[0m 4ms/step - disc_loss: 1.3652 - gen_loss: 0.7334\n",
            "Epoch 4/10\n",
            "\u001b[1m4515/4515\u001b[0m \u001b[32m━━━━━━━━━━━━━━━━━━━━\u001b[0m\u001b[37m\u001b[0m \u001b[1m20s\u001b[0m 4ms/step - disc_loss: 1.3752 - gen_loss: 0.7155\n",
            "Epoch 5/10\n",
            "\u001b[1m4515/4515\u001b[0m \u001b[32m━━━━━━━━━━━━━━━━━━━━\u001b[0m\u001b[37m\u001b[0m \u001b[1m19s\u001b[0m 4ms/step - disc_loss: 1.3840 - gen_loss: 0.7001\n",
            "Epoch 6/10\n",
            "\u001b[1m4515/4515\u001b[0m \u001b[32m━━━━━━━━━━━━━━━━━━━━\u001b[0m\u001b[37m\u001b[0m \u001b[1m18s\u001b[0m 4ms/step - disc_loss: 1.3763 - gen_loss: 0.7225\n",
            "Epoch 7/10\n",
            "\u001b[1m4515/4515\u001b[0m \u001b[32m━━━━━━━━━━━━━━━━━━━━\u001b[0m\u001b[37m\u001b[0m \u001b[1m20s\u001b[0m 4ms/step - disc_loss: 1.3705 - gen_loss: 0.7328\n",
            "Epoch 8/10\n",
            "\u001b[1m4515/4515\u001b[0m \u001b[32m━━━━━━━━━━━━━━━━━━━━\u001b[0m\u001b[37m\u001b[0m \u001b[1m18s\u001b[0m 4ms/step - disc_loss: 1.3661 - gen_loss: 0.7470\n",
            "Epoch 9/10\n",
            "\u001b[1m4515/4515\u001b[0m \u001b[32m━━━━━━━━━━━━━━━━━━━━\u001b[0m\u001b[37m\u001b[0m \u001b[1m20s\u001b[0m 4ms/step - disc_loss: 1.3814 - gen_loss: 0.7303\n",
            "Epoch 10/10\n",
            "\u001b[1m4515/4515\u001b[0m \u001b[32m━━━━━━━━━━━━━━━━━━━━\u001b[0m\u001b[37m\u001b[0m \u001b[1m21s\u001b[0m 4ms/step - disc_loss: 1.3863 - gen_loss: 0.6928\n"
          ]
        },
        {
          "data": {
            "text/html": [
              "<pre style=\"white-space:pre;overflow-x:auto;line-height:normal;font-family:Menlo,'DejaVu Sans Mono',consolas,'Courier New',monospace\"><span style=\"font-weight: bold\">Model: \"gan_8\"</span>\n",
              "</pre>\n"
            ],
            "text/plain": [
              "\u001b[1mModel: \"gan_8\"\u001b[0m\n"
            ]
          },
          "metadata": {},
          "output_type": "display_data"
        },
        {
          "data": {
            "text/html": [
              "<pre style=\"white-space:pre;overflow-x:auto;line-height:normal;font-family:Menlo,'DejaVu Sans Mono',consolas,'Courier New',monospace\">┏━━━━━━━━━━━━━━━━━━━━━━━━━━━━━━━━━━━━━━┳━━━━━━━━━━━━━━━━━━━━━━━━━━━━━┳━━━━━━━━━━━━━━━━━┓\n",
              "┃<span style=\"font-weight: bold\"> Layer (type)                         </span>┃<span style=\"font-weight: bold\"> Output Shape                </span>┃<span style=\"font-weight: bold\">         Param # </span>┃\n",
              "┡━━━━━━━━━━━━━━━━━━━━━━━━━━━━━━━━━━━━━━╇━━━━━━━━━━━━━━━━━━━━━━━━━━━━━╇━━━━━━━━━━━━━━━━━┩\n",
              "│ generator_7 (<span style=\"color: #0087ff; text-decoration-color: #0087ff\">Generator</span>)              │ ?                           │             <span style=\"color: #00af00; text-decoration-color: #00af00\">432</span> │\n",
              "├──────────────────────────────────────┼─────────────────────────────┼─────────────────┤\n",
              "│ discriminator_7 (<span style=\"color: #0087ff; text-decoration-color: #0087ff\">Discriminator</span>)      │ ?                           │           <span style=\"color: #00af00; text-decoration-color: #00af00\">1,003</span> │\n",
              "└──────────────────────────────────────┴─────────────────────────────┴─────────────────┘\n",
              "</pre>\n"
            ],
            "text/plain": [
              "┏━━━━━━━━━━━━━━━━━━━━━━━━━━━━━━━━━━━━━━┳━━━━━━━━━━━━━━━━━━━━━━━━━━━━━┳━━━━━━━━━━━━━━━━━┓\n",
              "┃\u001b[1m \u001b[0m\u001b[1mLayer (type)                        \u001b[0m\u001b[1m \u001b[0m┃\u001b[1m \u001b[0m\u001b[1mOutput Shape               \u001b[0m\u001b[1m \u001b[0m┃\u001b[1m \u001b[0m\u001b[1m        Param #\u001b[0m\u001b[1m \u001b[0m┃\n",
              "┡━━━━━━━━━━━━━━━━━━━━━━━━━━━━━━━━━━━━━━╇━━━━━━━━━━━━━━━━━━━━━━━━━━━━━╇━━━━━━━━━━━━━━━━━┩\n",
              "│ generator_7 (\u001b[38;5;33mGenerator\u001b[0m)              │ ?                           │             \u001b[38;5;34m432\u001b[0m │\n",
              "├──────────────────────────────────────┼─────────────────────────────┼─────────────────┤\n",
              "│ discriminator_7 (\u001b[38;5;33mDiscriminator\u001b[0m)      │ ?                           │           \u001b[38;5;34m1,003\u001b[0m │\n",
              "└──────────────────────────────────────┴─────────────────────────────┴─────────────────┘\n"
            ]
          },
          "metadata": {},
          "output_type": "display_data"
        },
        {
          "data": {
            "text/html": [
              "<pre style=\"white-space:pre;overflow-x:auto;line-height:normal;font-family:Menlo,'DejaVu Sans Mono',consolas,'Courier New',monospace\"><span style=\"font-weight: bold\"> Total params: </span><span style=\"color: #00af00; text-decoration-color: #00af00\">1,435</span> (5.61 KB)\n",
              "</pre>\n"
            ],
            "text/plain": [
              "\u001b[1m Total params: \u001b[0m\u001b[38;5;34m1,435\u001b[0m (5.61 KB)\n"
            ]
          },
          "metadata": {},
          "output_type": "display_data"
        },
        {
          "data": {
            "text/html": [
              "<pre style=\"white-space:pre;overflow-x:auto;line-height:normal;font-family:Menlo,'DejaVu Sans Mono',consolas,'Courier New',monospace\"><span style=\"font-weight: bold\"> Trainable params: </span><span style=\"color: #00af00; text-decoration-color: #00af00\">1,435</span> (5.61 KB)\n",
              "</pre>\n"
            ],
            "text/plain": [
              "\u001b[1m Trainable params: \u001b[0m\u001b[38;5;34m1,435\u001b[0m (5.61 KB)\n"
            ]
          },
          "metadata": {},
          "output_type": "display_data"
        },
        {
          "data": {
            "text/html": [
              "<pre style=\"white-space:pre;overflow-x:auto;line-height:normal;font-family:Menlo,'DejaVu Sans Mono',consolas,'Courier New',monospace\"><span style=\"font-weight: bold\"> Non-trainable params: </span><span style=\"color: #00af00; text-decoration-color: #00af00\">0</span> (0.00 B)\n",
              "</pre>\n"
            ],
            "text/plain": [
              "\u001b[1m Non-trainable params: \u001b[0m\u001b[38;5;34m0\u001b[0m (0.00 B)\n"
            ]
          },
          "metadata": {},
          "output_type": "display_data"
        }
      ],
      "source": [
        "# Fit function for autoencoder\n",
        "history_classical_autoencoder = gan.fit(X_train_begign, X_train_begign,\n",
        "                                        epochs=10,\n",
        "                                        shuffle=True,\n",
        "                                        batch_size=256,\n",
        "                                        )\n",
        "\n",
        "gan.summary()"
      ]
    },
    {
      "cell_type": "code",
      "execution_count": null,
      "metadata": {
        "colab": {
          "base_uri": "https://localhost:8080/",
          "height": 747
        },
        "id": "lX0ni5HfmPQ0",
        "outputId": "13b96c58-e19e-469f-e46d-a5f2928db535"
      },
      "outputs": [
        {
          "data": {
            "text/html": [
              "<pre style=\"white-space:pre;overflow-x:auto;line-height:normal;font-family:Menlo,'DejaVu Sans Mono',consolas,'Courier New',monospace\"><span style=\"font-weight: bold\">Model: \"gan_8\"</span>\n",
              "</pre>\n"
            ],
            "text/plain": [
              "\u001b[1mModel: \"gan_8\"\u001b[0m\n"
            ]
          },
          "metadata": {},
          "output_type": "display_data"
        },
        {
          "data": {
            "text/html": [
              "<pre style=\"white-space:pre;overflow-x:auto;line-height:normal;font-family:Menlo,'DejaVu Sans Mono',consolas,'Courier New',monospace\">┏━━━━━━━━━━━━━━━━━━━━━━━━━━━━━━━━━━━━━━┳━━━━━━━━━━━━━━━━━━━━━━━━━━━━━┳━━━━━━━━━━━━━━━━━┓\n",
              "┃<span style=\"font-weight: bold\"> Layer (type)                         </span>┃<span style=\"font-weight: bold\"> Output Shape                </span>┃<span style=\"font-weight: bold\">         Param # </span>┃\n",
              "┡━━━━━━━━━━━━━━━━━━━━━━━━━━━━━━━━━━━━━━╇━━━━━━━━━━━━━━━━━━━━━━━━━━━━━╇━━━━━━━━━━━━━━━━━┩\n",
              "│ generator_7 (<span style=\"color: #0087ff; text-decoration-color: #0087ff\">Generator</span>)              │ ?                           │             <span style=\"color: #00af00; text-decoration-color: #00af00\">432</span> │\n",
              "├──────────────────────────────────────┼─────────────────────────────┼─────────────────┤\n",
              "│ discriminator_7 (<span style=\"color: #0087ff; text-decoration-color: #0087ff\">Discriminator</span>)      │ ?                           │           <span style=\"color: #00af00; text-decoration-color: #00af00\">1,003</span> │\n",
              "└──────────────────────────────────────┴─────────────────────────────┴─────────────────┘\n",
              "</pre>\n"
            ],
            "text/plain": [
              "┏━━━━━━━━━━━━━━━━━━━━━━━━━━━━━━━━━━━━━━┳━━━━━━━━━━━━━━━━━━━━━━━━━━━━━┳━━━━━━━━━━━━━━━━━┓\n",
              "┃\u001b[1m \u001b[0m\u001b[1mLayer (type)                        \u001b[0m\u001b[1m \u001b[0m┃\u001b[1m \u001b[0m\u001b[1mOutput Shape               \u001b[0m\u001b[1m \u001b[0m┃\u001b[1m \u001b[0m\u001b[1m        Param #\u001b[0m\u001b[1m \u001b[0m┃\n",
              "┡━━━━━━━━━━━━━━━━━━━━━━━━━━━━━━━━━━━━━━╇━━━━━━━━━━━━━━━━━━━━━━━━━━━━━╇━━━━━━━━━━━━━━━━━┩\n",
              "│ generator_7 (\u001b[38;5;33mGenerator\u001b[0m)              │ ?                           │             \u001b[38;5;34m432\u001b[0m │\n",
              "├──────────────────────────────────────┼─────────────────────────────┼─────────────────┤\n",
              "│ discriminator_7 (\u001b[38;5;33mDiscriminator\u001b[0m)      │ ?                           │           \u001b[38;5;34m1,003\u001b[0m │\n",
              "└──────────────────────────────────────┴─────────────────────────────┴─────────────────┘\n"
            ]
          },
          "metadata": {},
          "output_type": "display_data"
        },
        {
          "data": {
            "text/html": [
              "<pre style=\"white-space:pre;overflow-x:auto;line-height:normal;font-family:Menlo,'DejaVu Sans Mono',consolas,'Courier New',monospace\"><span style=\"font-weight: bold\"> Total params: </span><span style=\"color: #00af00; text-decoration-color: #00af00\">1,435</span> (5.61 KB)\n",
              "</pre>\n"
            ],
            "text/plain": [
              "\u001b[1m Total params: \u001b[0m\u001b[38;5;34m1,435\u001b[0m (5.61 KB)\n"
            ]
          },
          "metadata": {},
          "output_type": "display_data"
        },
        {
          "data": {
            "text/html": [
              "<pre style=\"white-space:pre;overflow-x:auto;line-height:normal;font-family:Menlo,'DejaVu Sans Mono',consolas,'Courier New',monospace\"><span style=\"font-weight: bold\"> Trainable params: </span><span style=\"color: #00af00; text-decoration-color: #00af00\">1,435</span> (5.61 KB)\n",
              "</pre>\n"
            ],
            "text/plain": [
              "\u001b[1m Trainable params: \u001b[0m\u001b[38;5;34m1,435\u001b[0m (5.61 KB)\n"
            ]
          },
          "metadata": {},
          "output_type": "display_data"
        },
        {
          "data": {
            "text/html": [
              "<pre style=\"white-space:pre;overflow-x:auto;line-height:normal;font-family:Menlo,'DejaVu Sans Mono',consolas,'Courier New',monospace\"><span style=\"font-weight: bold\"> Non-trainable params: </span><span style=\"color: #00af00; text-decoration-color: #00af00\">0</span> (0.00 B)\n",
              "</pre>\n"
            ],
            "text/plain": [
              "\u001b[1m Non-trainable params: \u001b[0m\u001b[38;5;34m0\u001b[0m (0.00 B)\n"
            ]
          },
          "metadata": {},
          "output_type": "display_data"
        },
        {
          "data": {
            "text/html": [
              "<pre style=\"white-space:pre;overflow-x:auto;line-height:normal;font-family:Menlo,'DejaVu Sans Mono',consolas,'Courier New',monospace\"><span style=\"font-weight: bold\">Model: \"discriminator_7\"</span>\n",
              "</pre>\n"
            ],
            "text/plain": [
              "\u001b[1mModel: \"discriminator_7\"\u001b[0m\n"
            ]
          },
          "metadata": {},
          "output_type": "display_data"
        },
        {
          "data": {
            "text/html": [
              "<pre style=\"white-space:pre;overflow-x:auto;line-height:normal;font-family:Menlo,'DejaVu Sans Mono',consolas,'Courier New',monospace\">┏━━━━━━━━━━━━━━━━━━━━━━━━━━━━━━━━━━━━━━┳━━━━━━━━━━━━━━━━━━━━━━━━━━━━━┳━━━━━━━━━━━━━━━━━┓\n",
              "┃<span style=\"font-weight: bold\"> Layer (type)                         </span>┃<span style=\"font-weight: bold\"> Output Shape                </span>┃<span style=\"font-weight: bold\">         Param # </span>┃\n",
              "┡━━━━━━━━━━━━━━━━━━━━━━━━━━━━━━━━━━━━━━╇━━━━━━━━━━━━━━━━━━━━━━━━━━━━━╇━━━━━━━━━━━━━━━━━┩\n",
              "│ dense_184 (<span style=\"color: #0087ff; text-decoration-color: #0087ff\">Dense</span>)                    │ (<span style=\"color: #00d7ff; text-decoration-color: #00d7ff\">None</span>, <span style=\"color: #00af00; text-decoration-color: #00af00\">24</span>)                  │             <span style=\"color: #00af00; text-decoration-color: #00af00\">600</span> │\n",
              "├──────────────────────────────────────┼─────────────────────────────┼─────────────────┤\n",
              "│ dense_185 (<span style=\"color: #0087ff; text-decoration-color: #0087ff\">Dense</span>)                    │ (<span style=\"color: #00d7ff; text-decoration-color: #00d7ff\">None</span>, <span style=\"color: #00af00; text-decoration-color: #00af00\">12</span>)                  │             <span style=\"color: #00af00; text-decoration-color: #00af00\">300</span> │\n",
              "├──────────────────────────────────────┼─────────────────────────────┼─────────────────┤\n",
              "│ dense_186 (<span style=\"color: #0087ff; text-decoration-color: #0087ff\">Dense</span>)                    │ (<span style=\"color: #00d7ff; text-decoration-color: #00d7ff\">None</span>, <span style=\"color: #00af00; text-decoration-color: #00af00\">6</span>)                   │              <span style=\"color: #00af00; text-decoration-color: #00af00\">78</span> │\n",
              "├──────────────────────────────────────┼─────────────────────────────┼─────────────────┤\n",
              "│ dense_187 (<span style=\"color: #0087ff; text-decoration-color: #0087ff\">Dense</span>)                    │ (<span style=\"color: #00d7ff; text-decoration-color: #00d7ff\">None</span>, <span style=\"color: #00af00; text-decoration-color: #00af00\">3</span>)                   │              <span style=\"color: #00af00; text-decoration-color: #00af00\">21</span> │\n",
              "├──────────────────────────────────────┼─────────────────────────────┼─────────────────┤\n",
              "│ dense_188 (<span style=\"color: #0087ff; text-decoration-color: #0087ff\">Dense</span>)                    │ (<span style=\"color: #00d7ff; text-decoration-color: #00d7ff\">None</span>, <span style=\"color: #00af00; text-decoration-color: #00af00\">1</span>)                   │               <span style=\"color: #00af00; text-decoration-color: #00af00\">4</span> │\n",
              "└──────────────────────────────────────┴─────────────────────────────┴─────────────────┘\n",
              "</pre>\n"
            ],
            "text/plain": [
              "┏━━━━━━━━━━━━━━━━━━━━━━━━━━━━━━━━━━━━━━┳━━━━━━━━━━━━━━━━━━━━━━━━━━━━━┳━━━━━━━━━━━━━━━━━┓\n",
              "┃\u001b[1m \u001b[0m\u001b[1mLayer (type)                        \u001b[0m\u001b[1m \u001b[0m┃\u001b[1m \u001b[0m\u001b[1mOutput Shape               \u001b[0m\u001b[1m \u001b[0m┃\u001b[1m \u001b[0m\u001b[1m        Param #\u001b[0m\u001b[1m \u001b[0m┃\n",
              "┡━━━━━━━━━━━━━━━━━━━━━━━━━━━━━━━━━━━━━━╇━━━━━━━━━━━━━━━━━━━━━━━━━━━━━╇━━━━━━━━━━━━━━━━━┩\n",
              "│ dense_184 (\u001b[38;5;33mDense\u001b[0m)                    │ (\u001b[38;5;45mNone\u001b[0m, \u001b[38;5;34m24\u001b[0m)                  │             \u001b[38;5;34m600\u001b[0m │\n",
              "├──────────────────────────────────────┼─────────────────────────────┼─────────────────┤\n",
              "│ dense_185 (\u001b[38;5;33mDense\u001b[0m)                    │ (\u001b[38;5;45mNone\u001b[0m, \u001b[38;5;34m12\u001b[0m)                  │             \u001b[38;5;34m300\u001b[0m │\n",
              "├──────────────────────────────────────┼─────────────────────────────┼─────────────────┤\n",
              "│ dense_186 (\u001b[38;5;33mDense\u001b[0m)                    │ (\u001b[38;5;45mNone\u001b[0m, \u001b[38;5;34m6\u001b[0m)                   │              \u001b[38;5;34m78\u001b[0m │\n",
              "├──────────────────────────────────────┼─────────────────────────────┼─────────────────┤\n",
              "│ dense_187 (\u001b[38;5;33mDense\u001b[0m)                    │ (\u001b[38;5;45mNone\u001b[0m, \u001b[38;5;34m3\u001b[0m)                   │              \u001b[38;5;34m21\u001b[0m │\n",
              "├──────────────────────────────────────┼─────────────────────────────┼─────────────────┤\n",
              "│ dense_188 (\u001b[38;5;33mDense\u001b[0m)                    │ (\u001b[38;5;45mNone\u001b[0m, \u001b[38;5;34m1\u001b[0m)                   │               \u001b[38;5;34m4\u001b[0m │\n",
              "└──────────────────────────────────────┴─────────────────────────────┴─────────────────┘\n"
            ]
          },
          "metadata": {},
          "output_type": "display_data"
        },
        {
          "data": {
            "text/html": [
              "<pre style=\"white-space:pre;overflow-x:auto;line-height:normal;font-family:Menlo,'DejaVu Sans Mono',consolas,'Courier New',monospace\"><span style=\"font-weight: bold\"> Total params: </span><span style=\"color: #00af00; text-decoration-color: #00af00\">1,003</span> (3.92 KB)\n",
              "</pre>\n"
            ],
            "text/plain": [
              "\u001b[1m Total params: \u001b[0m\u001b[38;5;34m1,003\u001b[0m (3.92 KB)\n"
            ]
          },
          "metadata": {},
          "output_type": "display_data"
        },
        {
          "data": {
            "text/html": [
              "<pre style=\"white-space:pre;overflow-x:auto;line-height:normal;font-family:Menlo,'DejaVu Sans Mono',consolas,'Courier New',monospace\"><span style=\"font-weight: bold\"> Trainable params: </span><span style=\"color: #00af00; text-decoration-color: #00af00\">1,003</span> (3.92 KB)\n",
              "</pre>\n"
            ],
            "text/plain": [
              "\u001b[1m Trainable params: \u001b[0m\u001b[38;5;34m1,003\u001b[0m (3.92 KB)\n"
            ]
          },
          "metadata": {},
          "output_type": "display_data"
        },
        {
          "data": {
            "text/html": [
              "<pre style=\"white-space:pre;overflow-x:auto;line-height:normal;font-family:Menlo,'DejaVu Sans Mono',consolas,'Courier New',monospace\"><span style=\"font-weight: bold\"> Non-trainable params: </span><span style=\"color: #00af00; text-decoration-color: #00af00\">0</span> (0.00 B)\n",
              "</pre>\n"
            ],
            "text/plain": [
              "\u001b[1m Non-trainable params: \u001b[0m\u001b[38;5;34m0\u001b[0m (0.00 B)\n"
            ]
          },
          "metadata": {},
          "output_type": "display_data"
        },
        {
          "data": {
            "text/html": [
              "<pre style=\"white-space:pre;overflow-x:auto;line-height:normal;font-family:Menlo,'DejaVu Sans Mono',consolas,'Courier New',monospace\"><span style=\"font-weight: bold\">Model: \"generator_7\"</span>\n",
              "</pre>\n"
            ],
            "text/plain": [
              "\u001b[1mModel: \"generator_7\"\u001b[0m\n"
            ]
          },
          "metadata": {},
          "output_type": "display_data"
        },
        {
          "data": {
            "text/html": [
              "<pre style=\"white-space:pre;overflow-x:auto;line-height:normal;font-family:Menlo,'DejaVu Sans Mono',consolas,'Courier New',monospace\">┏━━━━━━━━━━━━━━━━━━━━━━━━━━━━━━━━━━━━━━┳━━━━━━━━━━━━━━━━━━━━━━━━━━━━━┳━━━━━━━━━━━━━━━━━┓\n",
              "┃<span style=\"font-weight: bold\"> Layer (type)                         </span>┃<span style=\"font-weight: bold\"> Output Shape                </span>┃<span style=\"font-weight: bold\">         Param # </span>┃\n",
              "┡━━━━━━━━━━━━━━━━━━━━━━━━━━━━━━━━━━━━━━╇━━━━━━━━━━━━━━━━━━━━━━━━━━━━━╇━━━━━━━━━━━━━━━━━┩\n",
              "│ dense_180 (<span style=\"color: #0087ff; text-decoration-color: #0087ff\">Dense</span>)                    │ (<span style=\"color: #00af00; text-decoration-color: #00af00\">256</span>, <span style=\"color: #00af00; text-decoration-color: #00af00\">3</span>)                    │              <span style=\"color: #00af00; text-decoration-color: #00af00\">12</span> │\n",
              "├──────────────────────────────────────┼─────────────────────────────┼─────────────────┤\n",
              "│ dense_181 (<span style=\"color: #0087ff; text-decoration-color: #0087ff\">Dense</span>)                    │ (<span style=\"color: #00af00; text-decoration-color: #00af00\">256</span>, <span style=\"color: #00af00; text-decoration-color: #00af00\">6</span>)                    │              <span style=\"color: #00af00; text-decoration-color: #00af00\">24</span> │\n",
              "├──────────────────────────────────────┼─────────────────────────────┼─────────────────┤\n",
              "│ dense_182 (<span style=\"color: #0087ff; text-decoration-color: #0087ff\">Dense</span>)                    │ (<span style=\"color: #00af00; text-decoration-color: #00af00\">256</span>, <span style=\"color: #00af00; text-decoration-color: #00af00\">12</span>)                   │              <span style=\"color: #00af00; text-decoration-color: #00af00\">84</span> │\n",
              "├──────────────────────────────────────┼─────────────────────────────┼─────────────────┤\n",
              "│ dense_183 (<span style=\"color: #0087ff; text-decoration-color: #0087ff\">Dense</span>)                    │ (<span style=\"color: #00af00; text-decoration-color: #00af00\">256</span>, <span style=\"color: #00af00; text-decoration-color: #00af00\">24</span>)                   │             <span style=\"color: #00af00; text-decoration-color: #00af00\">312</span> │\n",
              "└──────────────────────────────────────┴─────────────────────────────┴─────────────────┘\n",
              "</pre>\n"
            ],
            "text/plain": [
              "┏━━━━━━━━━━━━━━━━━━━━━━━━━━━━━━━━━━━━━━┳━━━━━━━━━━━━━━━━━━━━━━━━━━━━━┳━━━━━━━━━━━━━━━━━┓\n",
              "┃\u001b[1m \u001b[0m\u001b[1mLayer (type)                        \u001b[0m\u001b[1m \u001b[0m┃\u001b[1m \u001b[0m\u001b[1mOutput Shape               \u001b[0m\u001b[1m \u001b[0m┃\u001b[1m \u001b[0m\u001b[1m        Param #\u001b[0m\u001b[1m \u001b[0m┃\n",
              "┡━━━━━━━━━━━━━━━━━━━━━━━━━━━━━━━━━━━━━━╇━━━━━━━━━━━━━━━━━━━━━━━━━━━━━╇━━━━━━━━━━━━━━━━━┩\n",
              "│ dense_180 (\u001b[38;5;33mDense\u001b[0m)                    │ (\u001b[38;5;34m256\u001b[0m, \u001b[38;5;34m3\u001b[0m)                    │              \u001b[38;5;34m12\u001b[0m │\n",
              "├──────────────────────────────────────┼─────────────────────────────┼─────────────────┤\n",
              "│ dense_181 (\u001b[38;5;33mDense\u001b[0m)                    │ (\u001b[38;5;34m256\u001b[0m, \u001b[38;5;34m6\u001b[0m)                    │              \u001b[38;5;34m24\u001b[0m │\n",
              "├──────────────────────────────────────┼─────────────────────────────┼─────────────────┤\n",
              "│ dense_182 (\u001b[38;5;33mDense\u001b[0m)                    │ (\u001b[38;5;34m256\u001b[0m, \u001b[38;5;34m12\u001b[0m)                   │              \u001b[38;5;34m84\u001b[0m │\n",
              "├──────────────────────────────────────┼─────────────────────────────┼─────────────────┤\n",
              "│ dense_183 (\u001b[38;5;33mDense\u001b[0m)                    │ (\u001b[38;5;34m256\u001b[0m, \u001b[38;5;34m24\u001b[0m)                   │             \u001b[38;5;34m312\u001b[0m │\n",
              "└──────────────────────────────────────┴─────────────────────────────┴─────────────────┘\n"
            ]
          },
          "metadata": {},
          "output_type": "display_data"
        },
        {
          "data": {
            "text/html": [
              "<pre style=\"white-space:pre;overflow-x:auto;line-height:normal;font-family:Menlo,'DejaVu Sans Mono',consolas,'Courier New',monospace\"><span style=\"font-weight: bold\"> Total params: </span><span style=\"color: #00af00; text-decoration-color: #00af00\">432</span> (1.69 KB)\n",
              "</pre>\n"
            ],
            "text/plain": [
              "\u001b[1m Total params: \u001b[0m\u001b[38;5;34m432\u001b[0m (1.69 KB)\n"
            ]
          },
          "metadata": {},
          "output_type": "display_data"
        },
        {
          "data": {
            "text/html": [
              "<pre style=\"white-space:pre;overflow-x:auto;line-height:normal;font-family:Menlo,'DejaVu Sans Mono',consolas,'Courier New',monospace\"><span style=\"font-weight: bold\"> Trainable params: </span><span style=\"color: #00af00; text-decoration-color: #00af00\">432</span> (1.69 KB)\n",
              "</pre>\n"
            ],
            "text/plain": [
              "\u001b[1m Trainable params: \u001b[0m\u001b[38;5;34m432\u001b[0m (1.69 KB)\n"
            ]
          },
          "metadata": {},
          "output_type": "display_data"
        },
        {
          "data": {
            "text/html": [
              "<pre style=\"white-space:pre;overflow-x:auto;line-height:normal;font-family:Menlo,'DejaVu Sans Mono',consolas,'Courier New',monospace\"><span style=\"font-weight: bold\"> Non-trainable params: </span><span style=\"color: #00af00; text-decoration-color: #00af00\">0</span> (0.00 B)\n",
              "</pre>\n"
            ],
            "text/plain": [
              "\u001b[1m Non-trainable params: \u001b[0m\u001b[38;5;34m0\u001b[0m (0.00 B)\n"
            ]
          },
          "metadata": {},
          "output_type": "display_data"
        }
      ],
      "source": [
        "gan.summary()\n",
        "gan.discriminator.summary()\n",
        "gan.generator.summary()"
      ]
    },
    {
      "cell_type": "markdown",
      "metadata": {
        "id": "l3-FJ-PzR9l_"
      },
      "source": [
        "# Prediction and Threshold creation\n",
        "\n",
        "*   We perfom predict among all autoencoder that we have created: classical(Vanilla, LSTM, Variational Autoencoders, GAN)\n",
        "*   We calculate the right threshold to perform classification\n",
        "\n",
        "---\n",
        "The main idea for **classification** is this one:\n",
        "\n",
        "Given **error reconstruction** and a **threshold**:\n",
        "\n",
        "```\n",
        "if error > threshold:\n",
        "        return \"Anomaly\"\n",
        "    else:\n",
        "        return \"Normal\"\n",
        "```\n",
        "\n",
        "The main idea for this code was taken by: https://github.com/AarnoStormborn/anomaly-detection-with-autoencoder\n",
        "\n",
        "\n",
        "\n"
      ]
    },
    {
      "cell_type": "markdown",
      "metadata": {
        "id": "yDRaupJcNetu"
      },
      "source": [
        "**Predictions of Autoencoder**"
      ]
    },
    {
      "cell_type": "code",
      "execution_count": null,
      "metadata": {
        "colab": {
          "base_uri": "https://localhost:8080/"
        },
        "id": "swxJHxcQSn-j",
        "outputId": "115c2a39-434c-4063-b2f9-05bdc46d0171"
      },
      "outputs": [
        {
          "name": "stdout",
          "output_type": "stream",
          "text": [
            "\u001b[1m9030/9030\u001b[0m \u001b[32m━━━━━━━━━━━━━━━━━━━━\u001b[0m\u001b[37m\u001b[0m \u001b[1m12s\u001b[0m 1ms/step\n"
          ]
        }
      ],
      "source": [
        "# Compute the predictions\n",
        "# This function return the feature vector: dim = 24\n",
        "predictions_AE = autoencoder.predict(X_test)\n",
        "#The difference is calculated element-wise and we took the absolute values\n",
        "# and the mean of all the differences\n",
        "reconsAE_df = pd.DataFrame({\n",
        "    'reconstruction_error': np.mean(np.abs(predictions_AE - X_test), axis=1),\n",
        "    'y_actual': y_test\n",
        "}).reset_index(drop=True)"
      ]
    },
    {
      "cell_type": "markdown",
      "metadata": {
        "id": "jRoR8krnNqH8"
      },
      "source": [
        "**Predictions of Variational Autoencoder**"
      ]
    },
    {
      "cell_type": "code",
      "execution_count": null,
      "metadata": {
        "colab": {
          "base_uri": "https://localhost:8080/"
        },
        "id": "BPuRBT2-Y0Aa",
        "outputId": "d31641a9-9218-46c2-b96e-c4446af3ab85"
      },
      "outputs": [
        {
          "name": "stdout",
          "output_type": "stream",
          "text": [
            "\u001b[1m9030/9030\u001b[0m \u001b[32m━━━━━━━━━━━━━━━━━━━━\u001b[0m\u001b[37m\u001b[0m \u001b[1m13s\u001b[0m 1ms/step\n"
          ]
        }
      ],
      "source": [
        "#The difference is calculated element-wise and we took the absolute values\n",
        "# and the mean of all the differences\n",
        "predictions_VAE = vae.predict(X_test)\n",
        "\n",
        "reconsVAE_df = pd.DataFrame({\n",
        "    'reconstruction_error': np.mean(np.abs(predictions_VAE - X_test), axis=1),\n",
        "    'y_actual': y_test\n",
        "}).reset_index(drop=True)"
      ]
    },
    {
      "cell_type": "markdown",
      "metadata": {
        "id": "3pJVl5pNNsq8"
      },
      "source": [
        "**Predictions of Generative Adversial Autoencoder**"
      ]
    },
    {
      "cell_type": "code",
      "execution_count": null,
      "metadata": {
        "colab": {
          "base_uri": "https://localhost:8080/"
        },
        "id": "CoA5UAwTyemQ",
        "outputId": "f1a022eb-a7ec-4d7e-c8aa-e5a62bac0fc9"
      },
      "outputs": [
        {
          "name": "stdout",
          "output_type": "stream",
          "text": [
            "\u001b[1m9030/9030\u001b[0m \u001b[32m━━━━━━━━━━━━━━━━━━━━\u001b[0m\u001b[37m\u001b[0m \u001b[1m11s\u001b[0m 1ms/step\n"
          ]
        }
      ],
      "source": [
        "#Make prediction\n",
        "predictions_GAN = gan.discriminator.predict(X_test)\n",
        "predictions_GAN = predictions_GAN.reshape(-1)\n",
        "reconsGAN_df = pd.DataFrame({\n",
        "    'probability': predictions_GAN,\n",
        "    'y_actual': y_test\n",
        "}).reset_index(drop=True)"
      ]
    },
    {
      "cell_type": "markdown",
      "metadata": {
        "id": "vJJBEGjjTTfH"
      },
      "source": [
        "Choosing the **right threshold**. That's a big questions! How?\n",
        "\n",
        "Selecting the appropriate threshold is vital in anomaly detection using autoencoders, as it balances the identification of **anomalies** and the risk of **false positives**. This threshold determines the cutoff for the reconstruction error, above which data points are considered anomalous. A threshold set too low may lead to many normal data points being incorrectly identified as anomalies, causing a high false positive rate. Conversely, if the threshold is too high, the autoencoder may fail to detect genuine anomalies, leading to a higher false negative rate.\n",
        "\n",
        "For this task, we will prioritize Recall as our evaluation metric, aiming to **minimize false negatives**. Missing a fraudulent transaction, by classifying it as genuine, could allow underlying issues to go unnoticed. To find the optimal threshold, we will test various values and seek the best balance between Recall and accuracy. The threshold values tested will correspond to different percentiles of the reconstruction error distribution."
      ]
    },
    {
      "cell_type": "code",
      "execution_count": null,
      "metadata": {
        "id": "popefN3TTXuP"
      },
      "outputs": [],
      "source": [
        "# We created a Dataframe to collect: threshold, accuracy, precision, recall\n",
        "# More information about this metrics in:\n",
        "# https://developers.google.com/machine-learning/crash-course/classification/accuracy-precision-recall\n",
        "\n",
        "def thresholdTuning(df, iterations):\n",
        "    # create a dataframe that is able to collect: threshold, accuracy, precision,\n",
        "                                                #recall\n",
        "    thresh_df = {\n",
        "        'threshold': [],\n",
        "        'accuracy': [],\n",
        "        'precision': [],\n",
        "        'recall': []\n",
        "    }\n",
        "\n",
        "    for i in range(iterations):\n",
        "        # Determine the threshold based on quantile values, progressively increasing it\n",
        "        # https://www.tensorflow.org/api_docs/python/tf/keras/ops/quantile\n",
        "        thresh_value = df['reconstruction_error'].quantile(i/iterations)\n",
        "        # Generate predictions: True if reconstruction_error is above the threshold, False otherwise\n",
        "        preds = df['reconstruction_error'] > thresh_value\n",
        "        # Compute classification metrics (accuracy, precision, recall)\n",
        "        # https://scikit-learn.org/stable/modules/generated/sklearn.metrics.classification_report.html\n",
        "        cr = classification_report(df['y_actual'], preds, output_dict=True)\n",
        "\n",
        "        # Extract accuracy, precision, and recall\n",
        "        acc = cr['accuracy']\n",
        "        prec = cr['macro avg']['precision']\n",
        "        rc = cr['macro avg']['recall']\n",
        "\n",
        "        # Store the results in a dictionary with lists\n",
        "        thresh_df['threshold'].append(thresh_value)\n",
        "        thresh_df['accuracy'].append(acc)\n",
        "        thresh_df['precision'].append(prec)\n",
        "        thresh_df['recall'].append(rc)\n",
        "\n",
        "    return pd.DataFrame(thresh_df)"
      ]
    },
    {
      "cell_type": "code",
      "execution_count": null,
      "metadata": {
        "id": "lEz9hY32Y-NO"
      },
      "outputs": [],
      "source": [
        "# inputs: dataset, number of quantiles iterations\n",
        "thresh_AE = thresholdTuning(reconsAE_df, 10)\n",
        "thresh_VAE = thresholdTuning(reconsVAE_df, 10)"
      ]
    },
    {
      "cell_type": "code",
      "execution_count": null,
      "metadata": {
        "colab": {
          "base_uri": "https://localhost:8080/"
        },
        "id": "nUZSo8GEyguo",
        "outputId": "7654a243-3578-466d-abd4-197bcb490c71"
      },
      "outputs": [
        {
          "name": "stdout",
          "output_type": "stream",
          "text": [
            "Threshold with Maximum Recall AE: 0.000000\n",
            "Threshold with Maximum Recall VAE: 0.000000\n"
          ]
        }
      ],
      "source": [
        "# We want to maximize recall, so among all we take the biggest one\n",
        "# We do a mask selecting the max threshold. How? It is performed like a SQL call\n",
        "# Take the row where thresh_df['recall'] are equale to recall.max()\n",
        "threshold_AE =  thresh_AE[thresh_AE['recall'] == thresh_AE['recall'].max()]['threshold'].values[0]\n",
        "print(f\"Threshold with Maximum Recall AE: {threshold_AE:.6f}\")\n",
        "threshold_VAE = thresh_VAE[thresh_VAE['recall'] == thresh_VAE['recall'].max()]['threshold'].values[0]\n",
        "print(f\"Threshold with Maximum Recall VAE: {threshold_VAE:.6f}\")"
      ]
    },
    {
      "cell_type": "code",
      "execution_count": null,
      "metadata": {
        "colab": {
          "base_uri": "https://localhost:8080/",
          "height": 1000
        },
        "id": "azdH0oC6Umhz",
        "outputId": "28a83b7c-220b-4d63-9c73-38eb2050731c"
      },
      "outputs": [
        {
          "data": {
            "text/plain": [
              "<matplotlib.legend.Legend at 0x7df69d7720d0>"
            ]
          },
          "execution_count": 177,
          "metadata": {},
          "output_type": "execute_result"
        },
        {
          "data": {
            "image/png": "[encoded data removed]",
            "text/plain": [
              "<Figure size 1000x1500 with 2 Axes>"
            ]
          },
          "metadata": {},
          "output_type": "display_data"
        }
      ],
      "source": [
        "# We plot our dataframes. You can see different threshold, and how this performs\n",
        "# among accuracy, recall, precision\n",
        "fig, axes = plt.subplots(2, 1, figsize=(10, 15))\n",
        "\n",
        "# .plot. define ass x, y and label\n",
        "# Autoencoders\n",
        "axes[0].plot(thresh_AE['threshold'], thresh_AE['accuracy'], label='Accuracy')\n",
        "axes[0].plot(thresh_AE['threshold'], thresh_AE['precision'], label='Precision')\n",
        "axes[0].plot(thresh_AE['threshold'], thresh_AE['recall'], label='Recall')\n",
        "\n",
        "axes[0].axvline(x=threshold_AE, color='r', linestyle='dashed')\n",
        "axes[0].set_xlabel('Threshold')\n",
        "axes[0].set_ylabel('Metrics')\n",
        "axes[0].set_title('Metrics for Autoencoders')\n",
        "axes[0].legend()\n",
        "\n",
        "#Variational autoencoders\n",
        "axes[1].plot(thresh_VAE['threshold'], thresh_VAE['accuracy'], label='Accuracy')\n",
        "axes[1].plot(thresh_VAE['threshold'], thresh_VAE['precision'], label='Precision')\n",
        "axes[1].plot(thresh_VAE['threshold'], thresh_VAE['recall'], label='Recall')\n",
        "\n",
        "axes[1].axvline(x=threshold_VAE, color='r', linestyle='dashed')\n",
        "axes[1].set_xlabel('Threshold')\n",
        "axes[1].set_ylabel('Metrics')\n",
        "axes[1].set_title('Metrics for Variational Autoencoders')\n",
        "axes[1].legend()"
      ]
    },
    {
      "cell_type": "code",
      "execution_count": null,
      "metadata": {
        "colab": {
          "base_uri": "https://localhost:8080/"
        },
        "id": "VCZRR7JvW6-N",
        "outputId": "c052f92b-2826-4e53-8cc2-ec5710d76da7"
      },
      "outputs": [
        {
          "name": "stderr",
          "output_type": "stream",
          "text": [
            "/usr/local/lib/python3.11/dist-packages/sklearn/metrics/_classification.py:1565: UndefinedMetricWarning: Precision is ill-defined and being set to 0.0 in labels with no predicted samples. Use `zero_division` parameter to control this behavior.\n",
            "  _warn_prf(average, modifier, f\"{metric.capitalize()} is\", len(result))\n",
            "/usr/local/lib/python3.11/dist-packages/sklearn/metrics/_classification.py:1565: UndefinedMetricWarning: Precision is ill-defined and being set to 0.0 in labels with no predicted samples. Use `zero_division` parameter to control this behavior.\n",
            "  _warn_prf(average, modifier, f\"{metric.capitalize()} is\", len(result))\n",
            "/usr/local/lib/python3.11/dist-packages/sklearn/metrics/_classification.py:1565: UndefinedMetricWarning: Precision is ill-defined and being set to 0.0 in labels with no predicted samples. Use `zero_division` parameter to control this behavior.\n",
            "  _warn_prf(average, modifier, f\"{metric.capitalize()} is\", len(result))\n",
            "/usr/local/lib/python3.11/dist-packages/sklearn/metrics/_classification.py:1565: UndefinedMetricWarning: Precision is ill-defined and being set to 0.0 in labels with no predicted samples. Use `zero_division` parameter to control this behavior.\n",
            "  _warn_prf(average, modifier, f\"{metric.capitalize()} is\", len(result))\n",
            "/usr/local/lib/python3.11/dist-packages/sklearn/metrics/_classification.py:1565: UndefinedMetricWarning: Precision is ill-defined and being set to 0.0 in labels with no predicted samples. Use `zero_division` parameter to control this behavior.\n",
            "  _warn_prf(average, modifier, f\"{metric.capitalize()} is\", len(result))\n",
            "/usr/local/lib/python3.11/dist-packages/sklearn/metrics/_classification.py:1565: UndefinedMetricWarning: Precision is ill-defined and being set to 0.0 in labels with no predicted samples. Use `zero_division` parameter to control this behavior.\n",
            "  _warn_prf(average, modifier, f\"{metric.capitalize()} is\", len(result))\n",
            "/usr/local/lib/python3.11/dist-packages/sklearn/metrics/_classification.py:1565: UndefinedMetricWarning: Precision is ill-defined and being set to 0.0 in labels with no predicted samples. Use `zero_division` parameter to control this behavior.\n",
            "  _warn_prf(average, modifier, f\"{metric.capitalize()} is\", len(result))\n",
            "/usr/local/lib/python3.11/dist-packages/sklearn/metrics/_classification.py:1565: UndefinedMetricWarning: Precision is ill-defined and being set to 0.0 in labels with no predicted samples. Use `zero_division` parameter to control this behavior.\n",
            "  _warn_prf(average, modifier, f\"{metric.capitalize()} is\", len(result))\n",
            "/usr/local/lib/python3.11/dist-packages/sklearn/metrics/_classification.py:1565: UndefinedMetricWarning: Precision is ill-defined and being set to 0.0 in labels with no predicted samples. Use `zero_division` parameter to control this behavior.\n",
            "  _warn_prf(average, modifier, f\"{metric.capitalize()} is\", len(result))\n"
          ]
        },
        {
          "name": "stdout",
          "output_type": "stream",
          "text": [
            "Threshold with Maximum Recall GAN: 0.000000\n"
          ]
        },
        {
          "name": "stderr",
          "output_type": "stream",
          "text": [
            "/usr/local/lib/python3.11/dist-packages/sklearn/metrics/_classification.py:1565: UndefinedMetricWarning: Precision is ill-defined and being set to 0.0 in labels with no predicted samples. Use `zero_division` parameter to control this behavior.\n",
            "  _warn_prf(average, modifier, f\"{metric.capitalize()} is\", len(result))\n",
            "/usr/local/lib/python3.11/dist-packages/sklearn/metrics/_classification.py:1565: UndefinedMetricWarning: Precision is ill-defined and being set to 0.0 in labels with no predicted samples. Use `zero_division` parameter to control this behavior.\n",
            "  _warn_prf(average, modifier, f\"{metric.capitalize()} is\", len(result))\n",
            "/usr/local/lib/python3.11/dist-packages/sklearn/metrics/_classification.py:1565: UndefinedMetricWarning: Precision is ill-defined and being set to 0.0 in labels with no predicted samples. Use `zero_division` parameter to control this behavior.\n",
            "  _warn_prf(average, modifier, f\"{metric.capitalize()} is\", len(result))\n",
            "/usr/local/lib/python3.11/dist-packages/sklearn/metrics/_classification.py:1565: UndefinedMetricWarning: Precision is ill-defined and being set to 0.0 in labels with no predicted samples. Use `zero_division` parameter to control this behavior.\n",
            "  _warn_prf(average, modifier, f\"{metric.capitalize()} is\", len(result))\n",
            "/usr/local/lib/python3.11/dist-packages/sklearn/metrics/_classification.py:1565: UndefinedMetricWarning: Precision is ill-defined and being set to 0.0 in labels with no predicted samples. Use `zero_division` parameter to control this behavior.\n",
            "  _warn_prf(average, modifier, f\"{metric.capitalize()} is\", len(result))\n",
            "/usr/local/lib/python3.11/dist-packages/sklearn/metrics/_classification.py:1565: UndefinedMetricWarning: Precision is ill-defined and being set to 0.0 in labels with no predicted samples. Use `zero_division` parameter to control this behavior.\n",
            "  _warn_prf(average, modifier, f\"{metric.capitalize()} is\", len(result))\n"
          ]
        }
      ],
      "source": [
        "def thresholdTuning_probability(df, iterations):\n",
        "    # create a dataframe that is able to collect: threshold, accuracy, precision,\n",
        "                                                #recall\n",
        "    thresh_df = {\n",
        "        'threshold': [],\n",
        "        'accuracy': [],\n",
        "        'precision': [],\n",
        "        'recall': []\n",
        "    }\n",
        "\n",
        "    for i in range(iterations):\n",
        "        # Determine the threshold based on quantile values, progressively increasing it\n",
        "        # https://www.tensorflow.org/api_docs/python/tf/keras/ops/quantile\n",
        "        thresh_value = i/10\n",
        "        # Generate predictions: True if reconstruction_error is above the threshold, False otherwise\n",
        "        preds = df['probability'] < thresh_value\n",
        "        # Compute classification metrics (accuracy, precision, recall)\n",
        "        # https://scikit-learn.org/stable/modules/generated/sklearn.metrics.classification_report.html\n",
        "        cr = classification_report(df['y_actual'], preds, output_dict=True)\n",
        "\n",
        "        # Extract accuracy, precision, and recall\n",
        "        acc = cr['accuracy']\n",
        "        prec = cr['macro avg']['precision']\n",
        "        rc = cr['macro avg']['recall']\n",
        "\n",
        "        # Store the results in a dictionary with lists\n",
        "        thresh_df['threshold'].append(thresh_value)\n",
        "        thresh_df['accuracy'].append(acc)\n",
        "        thresh_df['precision'].append(prec)\n",
        "        thresh_df['recall'].append(rc)\n",
        "\n",
        "    return pd.DataFrame(thresh_df)\n",
        "\n",
        "thresh_GAN = thresholdTuning_probability(reconsGAN_df, 10)\n",
        "threshold_GAN = thresh_GAN[thresh_GAN['recall'] == thresh_GAN['recall'].max()]['threshold'].values[0]\n",
        "print(f\"Threshold with Maximum Recall GAN: {threshold_GAN:.6f}\")"
      ]
    },
    {
      "cell_type": "markdown",
      "metadata": {
        "id": "bPRpr54JTcCi"
      },
      "source": [
        "#Models evaluation\n"
      ]
    },
    {
      "cell_type": "code",
      "execution_count": null,
      "metadata": {
        "id": "5HuuHjCJTgkp"
      },
      "outputs": [],
      "source": [
        "# Given the selected threshold, we can create our predicton.\n",
        "# Remember the algorithm...\n",
        "# if error > threshold:\n",
        "#        return \"True\"\n",
        "#    else:\n",
        "#        return \"False\""
      ]
    },
    {
      "cell_type": "markdown",
      "metadata": {
        "id": "rL2RWLckqCnK"
      },
      "source": [
        "**Evaluation Autoencoders**"
      ]
    },
    {
      "cell_type": "code",
      "execution_count": null,
      "metadata": {
        "colab": {
          "base_uri": "https://localhost:8080/",
          "height": 674
        },
        "id": "EuqyWfotqF_2",
        "outputId": "bd563329-fa1e-4a22-8df1-feae285146f5"
      },
      "outputs": [
        {
          "name": "stdout",
          "output_type": "stream",
          "text": [
            "              precision    recall  f1-score   support\n",
            "\n",
            "           0       0.00      0.00      0.00     39400\n",
            "           1       0.86      1.00      0.93    249535\n",
            "\n",
            "    accuracy                           0.86    288935\n",
            "   macro avg       0.43      0.50      0.46    288935\n",
            "weighted avg       0.75      0.86      0.80    288935\n",
            "\n"
          ]
        },
        {
          "data": {
            "image/png": "[encoded data removed]",
            "text/plain": [
              "<Figure size 640x480 with 1 Axes>"
            ]
          },
          "metadata": {},
          "output_type": "display_data"
        },
        {
          "name": "stdout",
          "output_type": "stream",
          "text": [
            "Recall is 99.964%\n",
            "Accuracy is: 86.332%\n"
          ]
        }
      ],
      "source": [
        "reconsAE_df['y_pred'] = reconsAE_df['reconstruction_error'] > threshold_AE\n",
        "print(classification_report(reconsAE_df['y_actual'],reconsAE_df['y_pred']))\n",
        "cm_AE = confusion_matrix(reconsAE_df['y_actual'],reconsAE_df['y_pred'])\n",
        "sns.heatmap(cm_AE, annot=True, cmap='Blues', cbar=False, fmt='.6g')\n",
        "\n",
        "plt.xlabel('Actual')\n",
        "plt.ylabel('Predicted')\n",
        "plt.title('Confusion Matrix')\n",
        "plt.show()\n",
        "\n",
        "print(f\"Recall is {recall_score(reconsAE_df['y_actual'],reconsAE_df['y_pred'])*100:.3f}%\")\n",
        "print(f\"Accuracy is: {accuracy_score(reconsAE_df['y_actual'],reconsAE_df['y_pred'])*100:.3f}%\")"
      ]
    },
    {
      "cell_type": "markdown",
      "metadata": {
        "id": "udDDgBNYqVI1"
      },
      "source": [
        "**Evaluation Variational Autoencoders**"
      ]
    },
    {
      "cell_type": "code",
      "execution_count": null,
      "metadata": {
        "colab": {
          "base_uri": "https://localhost:8080/",
          "height": 674
        },
        "id": "cM328q-OqUcl",
        "outputId": "987c8624-9519-4e49-f260-097b80e17c1e"
      },
      "outputs": [
        {
          "name": "stdout",
          "output_type": "stream",
          "text": [
            "              precision    recall  f1-score   support\n",
            "\n",
            "           0       0.11      0.64      0.19     39400\n",
            "           1       0.79      0.22      0.34    249535\n",
            "\n",
            "    accuracy                           0.27    288935\n",
            "   macro avg       0.45      0.43      0.27    288935\n",
            "weighted avg       0.70      0.27      0.32    288935\n",
            "\n"
          ]
        },
        {
          "data": {
            "image/png": "[encoded data removed]",
            "text/plain": [
              "<Figure size 640x480 with 1 Axes>"
            ]
          },
          "metadata": {},
          "output_type": "display_data"
        },
        {
          "name": "stdout",
          "output_type": "stream",
          "text": [
            "Recall is 21.577%\n",
            "Accuracy is: 27.384%\n"
          ]
        }
      ],
      "source": [
        "threshold_VAE = 0.008\n",
        "reconsVAE_df['y_pred'] = reconsVAE_df['reconstruction_error'] > threshold_VAE\n",
        "print(classification_report(reconsVAE_df['y_actual'],reconsVAE_df['y_pred']))\n",
        "cm_VAE = confusion_matrix(reconsVAE_df['y_actual'],reconsVAE_df['y_pred'])\n",
        "sns.heatmap(cm_VAE, annot=True, cmap='Blues', cbar=False, fmt='.6g')\n",
        "\n",
        "plt.xlabel('Actual')\n",
        "plt.ylabel('Predicted')\n",
        "plt.title('Confusion Matrix')\n",
        "plt.show()\n",
        "\n",
        "print(f\"Recall is {recall_score(reconsVAE_df['y_actual'],reconsVAE_df['y_pred'])*100:.3f}%\")\n",
        "print(f\"Accuracy is: {accuracy_score(reconsVAE_df['y_actual'],reconsVAE_df['y_pred'])*100:.3f}%\")"
      ]
    },
    {
      "cell_type": "markdown",
      "metadata": {
        "id": "GzFnsv4PqoOv"
      },
      "source": [
        "**Evaluation GAN**"
      ]
    },
    {
      "cell_type": "code",
      "execution_count": null,
      "metadata": {
        "colab": {
          "base_uri": "https://localhost:8080/",
          "height": 804
        },
        "id": "9du43ZA9sR98",
        "outputId": "d7fe2f20-cbd6-4820-caaa-7a89a3f2015b"
      },
      "outputs": [
        {
          "name": "stderr",
          "output_type": "stream",
          "text": [
            "/usr/local/lib/python3.11/dist-packages/sklearn/metrics/_classification.py:1565: UndefinedMetricWarning: Precision is ill-defined and being set to 0.0 in labels with no predicted samples. Use `zero_division` parameter to control this behavior.\n",
            "  _warn_prf(average, modifier, f\"{metric.capitalize()} is\", len(result))\n",
            "/usr/local/lib/python3.11/dist-packages/sklearn/metrics/_classification.py:1565: UndefinedMetricWarning: Precision is ill-defined and being set to 0.0 in labels with no predicted samples. Use `zero_division` parameter to control this behavior.\n",
            "  _warn_prf(average, modifier, f\"{metric.capitalize()} is\", len(result))\n",
            "/usr/local/lib/python3.11/dist-packages/sklearn/metrics/_classification.py:1565: UndefinedMetricWarning: Precision is ill-defined and being set to 0.0 in labels with no predicted samples. Use `zero_division` parameter to control this behavior.\n",
            "  _warn_prf(average, modifier, f\"{metric.capitalize()} is\", len(result))\n"
          ]
        },
        {
          "name": "stdout",
          "output_type": "stream",
          "text": [
            "              precision    recall  f1-score   support\n",
            "\n",
            "           0       0.00      0.00      0.00     39400\n",
            "           1       0.86      1.00      0.93    249535\n",
            "\n",
            "    accuracy                           0.86    288935\n",
            "   macro avg       0.43      0.50      0.46    288935\n",
            "weighted avg       0.75      0.86      0.80    288935\n",
            "\n"
          ]
        },
        {
          "data": {
            "image/png": "[encoded data removed]",
            "text/plain": [
              "<Figure size 640x480 with 1 Axes>"
            ]
          },
          "metadata": {},
          "output_type": "display_data"
        },
        {
          "name": "stdout",
          "output_type": "stream",
          "text": [
            "Recall is 100.000%\n",
            "Accuracy is: 86.364%\n"
          ]
        }
      ],
      "source": [
        "reconsGAN_df['y_pred'] = reconsGAN_df['probability'] < 0.6\n",
        "print(classification_report(reconsGAN_df['y_actual'],reconsGAN_df['y_pred']))\n",
        "cm_GAN = confusion_matrix(reconsAE_df['y_actual'],reconsAE_df['y_pred'])\n",
        "sns.heatmap(cm_GAN, annot=True, cmap='Blues', cbar=False, fmt='.6g')\n",
        "\n",
        "plt.xlabel('Actual')\n",
        "plt.ylabel('Predicted')\n",
        "plt.title('Confusion Matrix')\n",
        "plt.show()\n",
        "\n",
        "print(f\"Recall is {recall_score(reconsGAN_df['y_actual'],reconsGAN_df['y_pred'])*100:.3f}%\")\n",
        "print(f\"Accuracy is: {accuracy_score(reconsGAN_df['y_actual'],reconsGAN_df['y_pred'])*100:.3f}%\")"
      ]
    }
  ],
  "metadata": {
    "colab": {
      "collapsed_sections": [
        "MsNZTbTWfsW2",
        "qbmscCR5E7pj",
        "MWkG8vUcfkzi",
        "iEBYs2R9qysW",
        "pQSPdAibjWQJ",
        "YRPdIQ1gDyCV",
        "BhQvGCYDrwDy"
      ],
      "provenance": []
    },
    "kernelspec": {
      "display_name": "Python 3",
      "name": "python3"
    },
    "language_info": {
      "name": "python"
    }
  },
  "nbformat": 4,
  "nbformat_minor": 0
}
